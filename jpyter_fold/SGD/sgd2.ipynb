{
 "cells": [
  {
   "cell_type": "code",
   "execution_count": 29,
   "metadata": {
    "collapsed": true
   },
   "outputs": [],
   "source": [
    "from numpy import *\n",
    "from sklearn import linear_model"
   ]
  },
  {
   "cell_type": "code",
   "execution_count": 30,
   "metadata": {
    "collapsed": true
   },
   "outputs": [],
   "source": [
    "def matrixTolist(matrix):\n",
    "    r = shape(matrix)[0]\n",
    "    temp = array(matrix)\n",
    "    templist = []\n",
    "    for i in range(r):  # temp[i]是数组，tolist后变成列表\n",
    "        templist.append(temp[i].tolist()[0])\n",
    "    return templist\n",
    "\n",
    "def loadDataSet():\n",
    "    dataMat = []; labelMat = []\n",
    "    fr = open('testSet.txt')\n",
    "    for line in fr.readlines():\n",
    "        lineArr = line.strip().split()  # 两个都是字符串处理函数 lineArr为列表\n",
    "        dataMat.append([1.0, float(lineArr[0]), float(lineArr[1])])\n",
    "        labelMat.append(int(lineArr[2]))\n",
    "    return dataMat,labelMat"
   ]
  },
  {
   "cell_type": "code",
   "execution_count": 31,
   "metadata": {
    "collapsed": false
   },
   "outputs": [],
   "source": [
    "def plotBestFit(weights):\n",
    "    import matplotlib.pyplot as plt\n",
    "    dataMat, labelMat = loadDataSet()      # 获取数据集和类别标签\n",
    "    dataArr = array(dataMat)\n",
    "    n = shape(dataArr)[0]                  # 数据集的行数目\n",
    "    xcord1 = []; ycord1 = []               # 一类的xy坐标\n",
    "    xcord2 = []; ycord2 = []               # 另一类的xy坐标\n",
    "    for i in range(n):\n",
    "        if int(labelMat[i]) == 1:          # 如果该行数据属于第一类\n",
    "            xcord1.append(dataArr[i,1]); ycord1.append(dataArr[i,2])  # 取出该行的xy值\n",
    "        else:\n",
    "            xcord2.append(dataArr[i,1]); ycord2.append(dataArr[i,2])  # 否则存储到另一类\n",
    "    fig = plt.figure()\n",
    "    ax = fig.add_subplot(111)   # 1行一列的第一个\n",
    "    ax.scatter(xcord1, ycord1, s=30, c='red', marker='s')  # 绘制1类散点图 s是标记的大小 scatter 是播撒的意思\n",
    "    ax.scatter(xcord2, ycord2, s=30, c='green')            # 绘制2类散点图\n",
    "    x = arange(-3.0, 3.0, 0.01)    # 600点\n",
    "    y = (-weights[0]-weights[1]*x)/weights[2]\n",
    "    ax.plot(x, y)\n",
    "    plt.xlabel('X1'); plt.ylabel('X2');  \n",
    "    plt.show()"
   ]
  },
  {
   "cell_type": "code",
   "execution_count": 94,
   "metadata": {
    "collapsed": false
   },
   "outputs": [
    {
     "name": "stdout",
     "output_type": "stream",
     "text": [
      "[[1.0, -0.017612, 14.053064], [1.0, -1.395634, 4.662541], [1.0, -0.752157, 6.53862], [1.0, -1.322371, 7.152853], [1.0, 0.423363, 11.054677], [1.0, 0.406704, 7.067335], [1.0, 0.667394, 12.741452], [1.0, -2.46015, 6.866805], [1.0, 0.569411, 9.548755], [1.0, -0.026632, 10.427743]]\n",
      "100\n"
     ]
    }
   ],
   "source": [
    "dataset, classlabel = loadDataSet()\n",
    "print(dataset[0:10])\n",
    "print(len(dataset))"
   ]
  },
  {
   "cell_type": "code",
   "execution_count": 100,
   "metadata": {
    "collapsed": false
   },
   "outputs": [],
   "source": [
    "clf = linear_model.SGDClassifier(alpha=0,loss='log', n_iter=600, learning_rate=\"constant\", eta0=0.01, average=100)"
   ]
  },
  {
   "cell_type": "code",
   "execution_count": 101,
   "metadata": {
    "collapsed": false
   },
   "outputs": [
    {
     "data": {
      "text/plain": [
       "SGDClassifier(alpha=0, average=100, class_weight=None, epsilon=0.1, eta0=0.01,\n",
       "       fit_intercept=True, l1_ratio=0.15, learning_rate='constant',\n",
       "       loss='log', n_iter=600, n_jobs=1, penalty='l2', power_t=0.5,\n",
       "       random_state=None, shuffle=True, verbose=0, warm_start=False)"
      ]
     },
     "execution_count": 101,
     "metadata": {},
     "output_type": "execute_result"
    }
   ],
   "source": [
    "clf.fit(dataset, classlabel)"
   ]
  },
  {
   "cell_type": "code",
   "execution_count": null,
   "metadata": {
    "collapsed": false,
    "scrolled": true
   },
   "outputs": [],
   "source": []
  },
  {
   "cell_type": "code",
   "execution_count": 102,
   "metadata": {
    "collapsed": false
   },
   "outputs": [
    {
     "name": "stdout",
     "output_type": "stream",
     "text": [
      "[[ 4.61339403  0.86305586 -1.2756756 ]]\n"
     ]
    }
   ],
   "source": [
    "print(clf.coef_)"
   ]
  },
  {
   "cell_type": "code",
   "execution_count": 103,
   "metadata": {
    "collapsed": true
   },
   "outputs": [],
   "source": [
    "def plotBestFit(weights):\n",
    "    import matplotlib.pyplot as plt\n",
    "    dataMat, labelMat = loadDataSet()      # 获取数据集和类别标签\n",
    "    dataArr = array(dataMat)\n",
    "    n = shape(dataArr)[0]                  # 数据集的行数目\n",
    "    xcord1 = []; ycord1 = []               # 一类的xy坐标\n",
    "    xcord2 = []; ycord2 = []               # 另一类的xy坐标\n",
    "    for i in range(n):\n",
    "        if int(labelMat[i]) == 1:          # 如果该行数据属于第一类\n",
    "            xcord1.append(dataArr[i,1]); ycord1.append(dataArr[i,2])  # 取出该行的xy值\n",
    "        else:\n",
    "            xcord2.append(dataArr[i,1]); ycord2.append(dataArr[i,2])  # 否则存储到另一类\n",
    "    fig = plt.figure()\n",
    "    ax = fig.add_subplot(111)   # 1行一列的第一个\n",
    "    ax.scatter(xcord1, ycord1, s=30, c='red', marker='s')  # 绘制1类散点图 s是标记的大小 scatter 是播撒的意思\n",
    "    ax.scatter(xcord2, ycord2, s=30, c='green')            # 绘制2类散点图\n",
    "    x = arange(-3.0, 3.0, 0.01)    # 600点\n",
    "    y = (-weights[0]-weights[1]*x)/weights[2]\n",
    "    ax.plot(x, y)\n",
    "    plt.xlabel('X1'); plt.ylabel('X2');  \n",
    "    plt.show()"
   ]
  },
  {
   "cell_type": "code",
   "execution_count": 104,
   "metadata": {
    "collapsed": false
   },
   "outputs": [
    {
     "data": {
      "image/png": "[encoded data removed]",
      "text/plain": [
       "<matplotlib.figure.Figure at 0xd0851c8e48>"
      ]
     },
     "metadata": {},
     "output_type": "display_data"
    }
   ],
   "source": [
    "plotBestFit(clf.coef_.squeeze())"
   ]
  },
  {
   "cell_type": "code",
   "execution_count": null,
   "metadata": {
    "collapsed": true
   },
   "outputs": [],
   "source": []
  },
  {
   "cell_type": "code",
   "execution_count": null,
   "metadata": {
    "collapsed": true
   },
   "outputs": [],
   "source": []
  }
 ],
 "metadata": {
  "kernelspec": {
   "display_name": "Python 3",
   "language": "python",
   "name": "python3"
  },
  "language_info": {
   "codemirror_mode": {
    "name": "ipython",
    "version": 3
   },
   "file_extension": ".py",
   "mimetype": "text/x-python",
   "name": "python",
   "nbconvert_exporter": "python",
   "pygments_lexer": "ipython3",
   "version": "3.6.0"
  }
 },
 "nbformat": 4,
 "nbformat_minor": 2
}
