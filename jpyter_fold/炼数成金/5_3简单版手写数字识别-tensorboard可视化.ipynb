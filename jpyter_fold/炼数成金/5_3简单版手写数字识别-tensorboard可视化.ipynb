{
 "cells": [
  {
   "cell_type": "code",
   "execution_count": 1,
   "metadata": {
    "collapsed": false
   },
   "outputs": [
    {
     "name": "stderr",
     "output_type": "stream",
     "text": [
      "I:\\Anaconda\\road\\lib\\site-packages\\tensorflow\\python\\framework\\dtypes.py:516: FutureWarning: Passing (type, 1) or '1type' as a synonym of type is deprecated; in a future version of numpy, it will be understood as (type, (1,)) / '(1,)type'.\n",
      "  _np_qint8 = np.dtype([(\"qint8\", np.int8, 1)])\n",
      "I:\\Anaconda\\road\\lib\\site-packages\\tensorflow\\python\\framework\\dtypes.py:517: FutureWarning: Passing (type, 1) or '1type' as a synonym of type is deprecated; in a future version of numpy, it will be understood as (type, (1,)) / '(1,)type'.\n",
      "  _np_quint8 = np.dtype([(\"quint8\", np.uint8, 1)])\n",
      "I:\\Anaconda\\road\\lib\\site-packages\\tensorflow\\python\\framework\\dtypes.py:518: FutureWarning: Passing (type, 1) or '1type' as a synonym of type is deprecated; in a future version of numpy, it will be understood as (type, (1,)) / '(1,)type'.\n",
      "  _np_qint16 = np.dtype([(\"qint16\", np.int16, 1)])\n",
      "I:\\Anaconda\\road\\lib\\site-packages\\tensorflow\\python\\framework\\dtypes.py:519: FutureWarning: Passing (type, 1) or '1type' as a synonym of type is deprecated; in a future version of numpy, it will be understood as (type, (1,)) / '(1,)type'.\n",
      "  _np_quint16 = np.dtype([(\"quint16\", np.uint16, 1)])\n",
      "I:\\Anaconda\\road\\lib\\site-packages\\tensorflow\\python\\framework\\dtypes.py:520: FutureWarning: Passing (type, 1) or '1type' as a synonym of type is deprecated; in a future version of numpy, it will be understood as (type, (1,)) / '(1,)type'.\n",
      "  _np_qint32 = np.dtype([(\"qint32\", np.int32, 1)])\n",
      "I:\\Anaconda\\road\\lib\\site-packages\\tensorflow\\python\\framework\\dtypes.py:525: FutureWarning: Passing (type, 1) or '1type' as a synonym of type is deprecated; in a future version of numpy, it will be understood as (type, (1,)) / '(1,)type'.\n",
      "  np_resource = np.dtype([(\"resource\", np.ubyte, 1)])\n",
      "I:\\Anaconda\\road\\lib\\site-packages\\tensorboard\\compat\\tensorflow_stub\\dtypes.py:541: FutureWarning: Passing (type, 1) or '1type' as a synonym of type is deprecated; in a future version of numpy, it will be understood as (type, (1,)) / '(1,)type'.\n",
      "  _np_qint8 = np.dtype([(\"qint8\", np.int8, 1)])\n",
      "I:\\Anaconda\\road\\lib\\site-packages\\tensorboard\\compat\\tensorflow_stub\\dtypes.py:542: FutureWarning: Passing (type, 1) or '1type' as a synonym of type is deprecated; in a future version of numpy, it will be understood as (type, (1,)) / '(1,)type'.\n",
      "  _np_quint8 = np.dtype([(\"quint8\", np.uint8, 1)])\n",
      "I:\\Anaconda\\road\\lib\\site-packages\\tensorboard\\compat\\tensorflow_stub\\dtypes.py:543: FutureWarning: Passing (type, 1) or '1type' as a synonym of type is deprecated; in a future version of numpy, it will be understood as (type, (1,)) / '(1,)type'.\n",
      "  _np_qint16 = np.dtype([(\"qint16\", np.int16, 1)])\n",
      "I:\\Anaconda\\road\\lib\\site-packages\\tensorboard\\compat\\tensorflow_stub\\dtypes.py:544: FutureWarning: Passing (type, 1) or '1type' as a synonym of type is deprecated; in a future version of numpy, it will be understood as (type, (1,)) / '(1,)type'.\n",
      "  _np_quint16 = np.dtype([(\"quint16\", np.uint16, 1)])\n",
      "I:\\Anaconda\\road\\lib\\site-packages\\tensorboard\\compat\\tensorflow_stub\\dtypes.py:545: FutureWarning: Passing (type, 1) or '1type' as a synonym of type is deprecated; in a future version of numpy, it will be understood as (type, (1,)) / '(1,)type'.\n",
      "  _np_qint32 = np.dtype([(\"qint32\", np.int32, 1)])\n",
      "I:\\Anaconda\\road\\lib\\site-packages\\tensorboard\\compat\\tensorflow_stub\\dtypes.py:550: FutureWarning: Passing (type, 1) or '1type' as a synonym of type is deprecated; in a future version of numpy, it will be understood as (type, (1,)) / '(1,)type'.\n",
      "  np_resource = np.dtype([(\"resource\", np.ubyte, 1)])\n"
     ]
    }
   ],
   "source": [
    "import tensorflow as tf\n",
    "import numpy as np\n",
    "from tensorflow.examples.tutorials.mnist import input_data\n",
    "from tensorflow.contrib.tensorboard.plugins import projector"
   ]
  },
  {
   "cell_type": "markdown",
   "metadata": {},
   "source": [
    "### 1 加载数据集"
   ]
  },
  {
   "cell_type": "code",
   "execution_count": 2,
   "metadata": {
    "collapsed": false
   },
   "outputs": [
    {
     "name": "stderr",
     "output_type": "stream",
     "text": [
      "WARNING: Logging before flag parsing goes to stderr.\n",
      "W0813 01:18:15.634047  1932 deprecation.py:323] From <ipython-input-2-1d84208486bb>:1: read_data_sets (from tensorflow.contrib.learn.python.learn.datasets.mnist) is deprecated and will be removed in a future version.\n",
      "Instructions for updating:\n",
      "Please use alternatives such as official/mnist/dataset.py from tensorflow/models.\n",
      "W0813 01:18:15.638051  1932 deprecation.py:323] From I:\\Anaconda\\road\\lib\\site-packages\\tensorflow\\contrib\\learn\\python\\learn\\datasets\\mnist.py:260: maybe_download (from tensorflow.contrib.learn.python.learn.datasets.base) is deprecated and will be removed in a future version.\n",
      "Instructions for updating:\n",
      "Please write your own downloading logic.\n",
      "W0813 01:18:15.641050  1932 deprecation.py:323] From I:\\Anaconda\\road\\lib\\site-packages\\tensorflow\\contrib\\learn\\python\\learn\\datasets\\mnist.py:262: extract_images (from tensorflow.contrib.learn.python.learn.datasets.mnist) is deprecated and will be removed in a future version.\n",
      "Instructions for updating:\n",
      "Please use tf.data to implement this functionality.\n"
     ]
    },
    {
     "name": "stdout",
     "output_type": "stream",
     "text": [
      "Extracting MNIST_data\\train-images-idx3-ubyte.gz\n"
     ]
    },
    {
     "name": "stderr",
     "output_type": "stream",
     "text": [
      "W0813 01:18:16.041333  1932 deprecation.py:323] From I:\\Anaconda\\road\\lib\\site-packages\\tensorflow\\contrib\\learn\\python\\learn\\datasets\\mnist.py:267: extract_labels (from tensorflow.contrib.learn.python.learn.datasets.mnist) is deprecated and will be removed in a future version.\n",
      "Instructions for updating:\n",
      "Please use tf.data to implement this functionality.\n",
      "W0813 01:18:16.045340  1932 deprecation.py:323] From I:\\Anaconda\\road\\lib\\site-packages\\tensorflow\\contrib\\learn\\python\\learn\\datasets\\mnist.py:110: dense_to_one_hot (from tensorflow.contrib.learn.python.learn.datasets.mnist) is deprecated and will be removed in a future version.\n",
      "Instructions for updating:\n",
      "Please use tf.one_hot on tensors.\n",
      "W0813 01:18:16.129400  1932 deprecation.py:323] From I:\\Anaconda\\road\\lib\\site-packages\\tensorflow\\contrib\\learn\\python\\learn\\datasets\\mnist.py:290: DataSet.__init__ (from tensorflow.contrib.learn.python.learn.datasets.mnist) is deprecated and will be removed in a future version.\n",
      "Instructions for updating:\n",
      "Please use alternatives such as official/mnist/dataset.py from tensorflow/models.\n"
     ]
    },
    {
     "name": "stdout",
     "output_type": "stream",
     "text": [
      "Extracting MNIST_data\\train-labels-idx1-ubyte.gz\n",
      "Extracting MNIST_data\\t10k-images-idx3-ubyte.gz\n",
      "Extracting MNIST_data\\t10k-labels-idx1-ubyte.gz\n"
     ]
    }
   ],
   "source": [
    "mnist = input_data.read_data_sets(\"MNIST_data\", one_hot=True)  # 加载数据，label用独热编码\n",
    "max_step = 1001  # 迭代次数，每次是批量 不是跑完所有的数据\n",
    "image_num = 3000  # 显示图片的数目\n",
    "DIR = 'J:/tensorboard/'  # 文件路径\n",
    "sess = tf.Session()\n",
    "embedding = tf.Variable(tf.stack(mnist.test.images[:image_num]), trainable=False, name='embedding')   # 3000张图片stack成的变量\n",
    "\n",
    "\n",
    "def variable_summary(var):\n",
    "    with tf.name_scope('summaries'):\n",
    "        mean = tf.reduce_mean(var)\n",
    "        tf.summary.scalar('mean', mean)  # 求平均值\n",
    "        with tf.name_scope('stddev'):\n",
    "            stddev = tf.sqrt(tf.reduce_mean(tf.square(var - mean)))\n",
    "        tf.summary.scalar('stddev', stddev)  # 标准差\n",
    "        tf.summary.scalar('max', tf.reduce_max(var))  # 最大值\n",
    "        tf.summary.scalar('min', tf.reduce_min(var))  # 最小值\n",
    "        tf.summary.histogram('histogram', var)  # 直方图"
   ]
  },
  {
   "cell_type": "markdown",
   "metadata": {},
   "source": [
    "### 2 设定批次"
   ]
  },
  {
   "cell_type": "code",
   "execution_count": 3,
   "metadata": {
    "collapsed": false
   },
   "outputs": [],
   "source": [
    "batch_size = 50\n",
    "n_batch = mnist.train.num_examples // batch_size  # 总共有多少个批次\n",
    "\n",
    "# 定义训练集占位符\n",
    "with tf.name_scope('input'):\n",
    "    x = tf.placeholder(tf.float32, shape=[None, 784], name='x_input')   # 每一行表示一个样本，内容是784为的像素值\n",
    "    y = tf.placeholder(tf.float32, shape=[None, 10],  name='y_input')   # 每一行表示一个label，采用杜热编码    \n"
   ]
  },
  {
   "cell_type": "code",
   "execution_count": 4,
   "metadata": {
    "collapsed": true
   },
   "outputs": [],
   "source": [
    "# # 显示图片\n",
    "with tf.name_scope('input_reshape'):\n",
    "    image_reshaped_input = tf.reshape(x, [-1, 28, 28, 1])  # 28*28 灰度图片\n",
    "    tf.summary.image('input', image_reshaped_input, 10)"
   ]
  },
  {
   "cell_type": "markdown",
   "metadata": {},
   "source": [
    "### 3 创建安神经网络（不含隐藏层）"
   ]
  },
  {
   "cell_type": "code",
   "execution_count": 5,
   "metadata": {
    "collapsed": false
   },
   "outputs": [
    {
     "name": "stderr",
     "output_type": "stream",
     "text": [
      "W0813 01:18:16.733828  1932 deprecation.py:506] From <ipython-input-5-4d71c2b81b9d>:29: calling dropout (from tensorflow.python.ops.nn_ops) with keep_prob is deprecated and will be removed in a future version.\n",
      "Instructions for updating:\n",
      "Please use `rate` instead of `keep_prob`. Rate should be set to `rate = 1 - keep_prob`.\n"
     ]
    }
   ],
   "source": [
    "# with tf.name_scope('layer'):\n",
    "#     with tf.name_scope('weights1'):\n",
    "#         w1 = tf.Variable(tf.random_normal([784, 100]) * 0.01, name='w1')\n",
    "#         variable_summary(w1)\n",
    "#     with tf.name_scope('biases1'):\n",
    "#         b1 = tf.Variable(tf.random_normal([100]) * 0.01, name='b1')\n",
    "#     with tf.name_scope('wx_plus_b_l1'):\n",
    "#         wx_plus_b_l1 = tf.matmul(x, w1) + b1\n",
    "#     with tf.name_scope('tanh'):\n",
    "#         l1 = tf.nn.tanh(wx_plus_b_l1)\n",
    "        \n",
    "#     with tf.name_scope('weights2'):\n",
    "#         w2 = tf.Variable(tf.random_normal([100,10]) * 0.01, name='w2')\n",
    "#     with tf.name_scope('biases2'):\n",
    "#         b2 = tf.Variable(tf.random_normal([10]) * 0.01, name='b2')\n",
    "#         variable_summary(b2)\n",
    "#     with tf.name_scope('wx_plus_b_l2'):\n",
    "#         wx_plus_b_l2 = tf.matmul(l1, w2) + b2\n",
    "#     with tf.name_scope('softmax'):\n",
    "#         prediction = tf.nn.softmax(wx_plus_b_l2)\n",
    "        \n",
    "        \n",
    "with tf.name_scope('layer'):        \n",
    "    w1 = tf.Variable(tf.truncated_normal([784, 2000], stddev=0.1))\n",
    "    variable_summary(w1)\n",
    "    b1 = tf.Variable(tf.zeros([2000]) + 0.1)\n",
    "    wx_plus_b_l1 = tf.matmul(x, w1) + b1\n",
    "    l1 = tf.nn.tanh(wx_plus_b_l1)\n",
    "    l1_dropout = tf.nn.dropout(l1, 1)\n",
    "\n",
    "    w2 = tf.Variable(tf.truncated_normal([2000, 1500], stddev=0.1))\n",
    "    b2 = tf.Variable(tf.zeros([1500]) + 0.1)\n",
    "    variable_summary(b2)\n",
    "    wx_plus_b_l2 = tf.matmul(l1_dropout, w2) + b2\n",
    "    l2 = tf.nn.tanh(wx_plus_b_l2)\n",
    "    l2_dropout = tf.nn.dropout(l2, 1)\n",
    "\n",
    "    w3 = tf.Variable(tf.truncated_normal([1500, 1000], stddev=0.1))\n",
    "    b3 = tf.Variable(tf.zeros([1000]) + 0.1)\n",
    "    wx_plus_b_l3 = tf.matmul(l2_dropout, w3) + b3\n",
    "    l3 = tf.nn.tanh(wx_plus_b_l3)\n",
    "    l3_dropout = tf.nn.dropout(l3, 1)\n",
    "\n",
    "    w4 = tf.Variable(tf.truncated_normal([1000, 10], stddev=0.1))\n",
    "    b4 = tf.Variable(tf.zeros([10]) + 0.1)\n",
    "    wx_plus_b_l4 = tf.matmul(l3_dropout, w4) + b4\n",
    "    l4 = tf.nn.tanh(wx_plus_b_l4)\n",
    "    prediction = tf.nn.dropout(l4, 1)        "
   ]
  },
  {
   "cell_type": "markdown",
   "metadata": {},
   "source": [
    "### 4 优化器"
   ]
  },
  {
   "cell_type": "code",
   "execution_count": 6,
   "metadata": {
    "collapsed": false
   },
   "outputs": [
    {
     "name": "stderr",
     "output_type": "stream",
     "text": [
      "W0813 01:18:16.821888  1932 deprecation.py:323] From <ipython-input-6-32e2c0213e3b>:3: softmax_cross_entropy_with_logits (from tensorflow.python.ops.nn_ops) is deprecated and will be removed in a future version.\n",
      "Instructions for updating:\n",
      "\n",
      "Future major versions of TensorFlow will allow gradients to flow\n",
      "into the labels input on backprop by default.\n",
      "\n",
      "See `tf.nn.softmax_cross_entropy_with_logits_v2`.\n",
      "\n"
     ]
    }
   ],
   "source": [
    "# loss = tf.reduce_mean(tf.square(y-prediction))\n",
    "with tf.name_scope('loss'):\n",
    "    loss = tf.reduce_mean(tf.nn.softmax_cross_entropy_with_logits(labels=y, logits=prediction))\n",
    "    tf.summary.scalar('loss', loss)\n",
    "with tf.name_scope('train'):\n",
    "    train_step = tf.train.GradientDescentOptimizer(0.3).minimize(loss)"
   ]
  },
  {
   "cell_type": "markdown",
   "metadata": {},
   "source": [
    "### 5 获取预测结果并计算准确率"
   ]
  },
  {
   "cell_type": "code",
   "execution_count": 7,
   "metadata": {
    "collapsed": false
   },
   "outputs": [
    {
     "name": "stderr",
     "output_type": "stream",
     "text": [
      "W0813 01:18:16.965011  1932 deprecation.py:323] From <ipython-input-7-d7023bafced3>:3: arg_max (from tensorflow.python.ops.gen_math_ops) is deprecated and will be removed in a future version.\n",
      "Instructions for updating:\n",
      "Use `tf.math.argmax` instead\n"
     ]
    }
   ],
   "source": [
    "with tf.name_scope('accuracy'):\n",
    "    with tf.name_scope('correct_prediction'): \n",
    "        correct_prediction = tf.equal(tf.arg_max(prediction, 1), tf.arg_max(y, 1))\n",
    "    with tf.name_scope('accuracy'): \n",
    "        accuracy = tf.reduce_mean(tf.cast(correct_prediction, tf.float32))\n",
    "        tf.summary.scalar('accuracy', accuracy)"
   ]
  },
  {
   "cell_type": "code",
   "execution_count": null,
   "metadata": {
    "collapsed": true
   },
   "outputs": [],
   "source": []
  },
  {
   "cell_type": "code",
   "execution_count": 8,
   "metadata": {
    "collapsed": false
   },
   "outputs": [],
   "source": [
    "# 产生metadata文件  从测试集中选出3000个数字，并把他们的label保存到tsv文件中\n",
    "# if tf.gfile.Exists(DIR + 'projector/projector/metedata.tsv'):\n",
    "#     tf.gfile.DeleteRecursively(DIR + 'projector/projector/metedata.tsv')\n",
    "with open (file=DIR + 'projector/projector/metadata.tsv', mode='w') as f:\n",
    "    labels = sess.run(tf.arg_max(mnist.test.labels[:], 1))\n",
    "    for i in range(image_num):\n",
    "        f.write(str(labels[i]) + '\\n')"
   ]
  },
  {
   "cell_type": "code",
   "execution_count": 9,
   "metadata": {
    "collapsed": true
   },
   "outputs": [],
   "source": [
    "merged = tf.summary.merge_all()  # 融合所有的summary"
   ]
  },
  {
   "cell_type": "code",
   "execution_count": 10,
   "metadata": {
    "collapsed": false
   },
   "outputs": [],
   "source": [
    "projector_writer = tf.summary.FileWriter(DIR + 'projector/projector/', sess.graph)\n",
    "saver = tf.train.Saver()\n",
    "config = projector.ProjectorConfig()\n",
    "embed = config.embeddings.add()\n",
    "embed.tensor_name = embedding.name\n",
    "embed.metadata_path = DIR + 'projector/projector/metadata.tsv'\n",
    "embed.sprite.image_path = DIR + 'projector/data/mnist_10k_sprite.png'\n",
    "embed.sprite.single_image_dim.extend([28,28])\n",
    "projector.visualize_embeddings(projector_writer, config)                  \n",
    "                                         "
   ]
  },
  {
   "cell_type": "markdown",
   "metadata": {},
   "source": [
    "### 6 启动会话"
   ]
  },
  {
   "cell_type": "code",
   "execution_count": 11,
   "metadata": {
    "collapsed": false
   },
   "outputs": [
    {
     "name": "stdout",
     "output_type": "stream",
     "text": [
      "第0次  测试集准确率是： 0.29510000348091125\n",
      "第100次  测试集准确率是： 0.8353999853134155\n",
      "第200次  测试集准确率是： 0.8985000252723694\n",
      "第300次  测试集准确率是： 0.9208999872207642\n",
      "第400次  测试集准确率是： 0.9143999814987183\n",
      "第500次  测试集准确率是： 0.9304999709129333\n",
      "第600次  测试集准确率是： 0.9283999800682068\n",
      "第700次  测试集准确率是： 0.9370999932289124\n",
      "第800次  测试集准确率是： 0.9368000030517578\n",
      "第900次  测试集准确率是： 0.9269999861717224\n",
      "第1000次  测试集准确率是： 0.9383999705314636\n"
     ]
    }
   ],
   "source": [
    "sess.run(tf.global_variables_initializer())\n",
    "for i in range(max_step):\n",
    "    batch_x, batch_y = mnist.train.next_batch(batch_size)\n",
    "    run_options = tf.RunOptions(trace_level=tf.RunOptions.FULL_TRACE)\n",
    "    run_metadata = tf.RunMetadata()\n",
    "    summary, _ = sess.run([merged, train_step], feed_dict={x:batch_x, y:batch_y}, options=run_options, run_metadata=run_metadata)\n",
    "    projector_writer.add_run_metadata(run_metadata, 'step%03d'%i)\n",
    "    projector_writer.add_summary(summary,i)\n",
    "    \n",
    "    if i%100==0:   \n",
    "        acc = sess.run(accuracy, feed_dict={x:mnist.test.images, y:mnist.test.labels})  # 用测试集来预测\n",
    "        print(\"第{0}次  测试集准确率是： {1}\".format(i, acc))\n",
    "        \n",
    "# 此处补上模型保存代码\n",
    "saver.save(sess,DIR + 'projector/projector/a_model.ckpt', global_step=max_step)\n",
    "projector_writer.close()\n",
    "sess.close()"
   ]
  },
  {
   "cell_type": "code",
   "execution_count": null,
   "metadata": {
    "collapsed": true
   },
   "outputs": [],
   "source": []
  }
 ],
 "metadata": {
  "kernelspec": {
   "display_name": "Python 3",
   "language": "python",
   "name": "python3"
  },
  "language_info": {
   "codemirror_mode": {
    "name": "ipython",
    "version": 3
   },
   "file_extension": ".py",
   "mimetype": "text/x-python",
   "name": "python",
   "nbconvert_exporter": "python",
   "pygments_lexer": "ipython3",
   "version": "3.6.0"
  }
 },
 "nbformat": 4,
 "nbformat_minor": 2
}
