{
 "cells": [
  {
   "cell_type": "code",
   "execution_count": 1,
   "metadata": {
    "collapsed": false
   },
   "outputs": [
    {
     "name": "stderr",
     "output_type": "stream",
     "text": [
      "C:\\ProgramData\\Anaconda3\\envs\\Tensor2\\lib\\site-packages\\tensorflow\\python\\framework\\dtypes.py:516: FutureWarning: Passing (type, 1) or '1type' as a synonym of type is deprecated; in a future version of numpy, it will be understood as (type, (1,)) / '(1,)type'.\n",
      "  _np_qint8 = np.dtype([(\"qint8\", np.int8, 1)])\n",
      "C:\\ProgramData\\Anaconda3\\envs\\Tensor2\\lib\\site-packages\\tensorflow\\python\\framework\\dtypes.py:517: FutureWarning: Passing (type, 1) or '1type' as a synonym of type is deprecated; in a future version of numpy, it will be understood as (type, (1,)) / '(1,)type'.\n",
      "  _np_quint8 = np.dtype([(\"quint8\", np.uint8, 1)])\n",
      "C:\\ProgramData\\Anaconda3\\envs\\Tensor2\\lib\\site-packages\\tensorflow\\python\\framework\\dtypes.py:518: FutureWarning: Passing (type, 1) or '1type' as a synonym of type is deprecated; in a future version of numpy, it will be understood as (type, (1,)) / '(1,)type'.\n",
      "  _np_qint16 = np.dtype([(\"qint16\", np.int16, 1)])\n",
      "C:\\ProgramData\\Anaconda3\\envs\\Tensor2\\lib\\site-packages\\tensorflow\\python\\framework\\dtypes.py:519: FutureWarning: Passing (type, 1) or '1type' as a synonym of type is deprecated; in a future version of numpy, it will be understood as (type, (1,)) / '(1,)type'.\n",
      "  _np_quint16 = np.dtype([(\"quint16\", np.uint16, 1)])\n",
      "C:\\ProgramData\\Anaconda3\\envs\\Tensor2\\lib\\site-packages\\tensorflow\\python\\framework\\dtypes.py:520: FutureWarning: Passing (type, 1) or '1type' as a synonym of type is deprecated; in a future version of numpy, it will be understood as (type, (1,)) / '(1,)type'.\n",
      "  _np_qint32 = np.dtype([(\"qint32\", np.int32, 1)])\n",
      "C:\\ProgramData\\Anaconda3\\envs\\Tensor2\\lib\\site-packages\\tensorflow\\python\\framework\\dtypes.py:525: FutureWarning: Passing (type, 1) or '1type' as a synonym of type is deprecated; in a future version of numpy, it will be understood as (type, (1,)) / '(1,)type'.\n",
      "  np_resource = np.dtype([(\"resource\", np.ubyte, 1)])\n",
      "C:\\Users\\G\\AppData\\Roaming\\Python\\Python36\\site-packages\\tensorboard\\compat\\tensorflow_stub\\dtypes.py:541: FutureWarning: Passing (type, 1) or '1type' as a synonym of type is deprecated; in a future version of numpy, it will be understood as (type, (1,)) / '(1,)type'.\n",
      "  _np_qint8 = np.dtype([(\"qint8\", np.int8, 1)])\n",
      "C:\\Users\\G\\AppData\\Roaming\\Python\\Python36\\site-packages\\tensorboard\\compat\\tensorflow_stub\\dtypes.py:542: FutureWarning: Passing (type, 1) or '1type' as a synonym of type is deprecated; in a future version of numpy, it will be understood as (type, (1,)) / '(1,)type'.\n",
      "  _np_quint8 = np.dtype([(\"quint8\", np.uint8, 1)])\n",
      "C:\\Users\\G\\AppData\\Roaming\\Python\\Python36\\site-packages\\tensorboard\\compat\\tensorflow_stub\\dtypes.py:543: FutureWarning: Passing (type, 1) or '1type' as a synonym of type is deprecated; in a future version of numpy, it will be understood as (type, (1,)) / '(1,)type'.\n",
      "  _np_qint16 = np.dtype([(\"qint16\", np.int16, 1)])\n",
      "C:\\Users\\G\\AppData\\Roaming\\Python\\Python36\\site-packages\\tensorboard\\compat\\tensorflow_stub\\dtypes.py:544: FutureWarning: Passing (type, 1) or '1type' as a synonym of type is deprecated; in a future version of numpy, it will be understood as (type, (1,)) / '(1,)type'.\n",
      "  _np_quint16 = np.dtype([(\"quint16\", np.uint16, 1)])\n",
      "C:\\Users\\G\\AppData\\Roaming\\Python\\Python36\\site-packages\\tensorboard\\compat\\tensorflow_stub\\dtypes.py:545: FutureWarning: Passing (type, 1) or '1type' as a synonym of type is deprecated; in a future version of numpy, it will be understood as (type, (1,)) / '(1,)type'.\n",
      "  _np_qint32 = np.dtype([(\"qint32\", np.int32, 1)])\n",
      "C:\\Users\\G\\AppData\\Roaming\\Python\\Python36\\site-packages\\tensorboard\\compat\\tensorflow_stub\\dtypes.py:550: FutureWarning: Passing (type, 1) or '1type' as a synonym of type is deprecated; in a future version of numpy, it will be understood as (type, (1,)) / '(1,)type'.\n",
      "  np_resource = np.dtype([(\"resource\", np.ubyte, 1)])\n"
     ]
    }
   ],
   "source": [
    "import tensorflow as tf\n",
    "from tensorflow.examples.tutorials.mnist import input_data\n",
    "import time"
   ]
  },
  {
   "cell_type": "markdown",
   "metadata": {},
   "source": [
    "### 1 加载数据集"
   ]
  },
  {
   "cell_type": "code",
   "execution_count": 2,
   "metadata": {
    "collapsed": false
   },
   "outputs": [
    {
     "name": "stderr",
     "output_type": "stream",
     "text": [
      "WARNING: Logging before flag parsing goes to stderr.\n",
      "W0818 20:16:48.709696  7956 deprecation.py:323] From <ipython-input-2-83231f068ae1>:1: read_data_sets (from tensorflow.contrib.learn.python.learn.datasets.mnist) is deprecated and will be removed in a future version.\n",
      "Instructions for updating:\n",
      "Please use alternatives such as official/mnist/dataset.py from tensorflow/models.\n",
      "W0818 20:16:48.710696  7956 deprecation.py:323] From C:\\ProgramData\\Anaconda3\\envs\\Tensor2\\lib\\site-packages\\tensorflow\\contrib\\learn\\python\\learn\\datasets\\mnist.py:260: maybe_download (from tensorflow.contrib.learn.python.learn.datasets.base) is deprecated and will be removed in a future version.\n",
      "Instructions for updating:\n",
      "Please write your own downloading logic.\n",
      "W0818 20:16:48.712696  7956 deprecation.py:323] From C:\\ProgramData\\Anaconda3\\envs\\Tensor2\\lib\\site-packages\\tensorflow\\contrib\\learn\\python\\learn\\datasets\\mnist.py:262: extract_images (from tensorflow.contrib.learn.python.learn.datasets.mnist) is deprecated and will be removed in a future version.\n",
      "Instructions for updating:\n",
      "Please use tf.data to implement this functionality.\n"
     ]
    },
    {
     "name": "stdout",
     "output_type": "stream",
     "text": [
      "Extracting MNIST_data\\train-images-idx3-ubyte.gz\n"
     ]
    },
    {
     "name": "stderr",
     "output_type": "stream",
     "text": [
      "W0818 20:16:48.944709  7956 deprecation.py:323] From C:\\ProgramData\\Anaconda3\\envs\\Tensor2\\lib\\site-packages\\tensorflow\\contrib\\learn\\python\\learn\\datasets\\mnist.py:267: extract_labels (from tensorflow.contrib.learn.python.learn.datasets.mnist) is deprecated and will be removed in a future version.\n",
      "Instructions for updating:\n",
      "Please use tf.data to implement this functionality.\n",
      "W0818 20:16:48.947710  7956 deprecation.py:323] From C:\\ProgramData\\Anaconda3\\envs\\Tensor2\\lib\\site-packages\\tensorflow\\contrib\\learn\\python\\learn\\datasets\\mnist.py:110: dense_to_one_hot (from tensorflow.contrib.learn.python.learn.datasets.mnist) is deprecated and will be removed in a future version.\n",
      "Instructions for updating:\n",
      "Please use tf.one_hot on tensors.\n",
      "W0818 20:16:48.996712  7956 deprecation.py:323] From C:\\ProgramData\\Anaconda3\\envs\\Tensor2\\lib\\site-packages\\tensorflow\\contrib\\learn\\python\\learn\\datasets\\mnist.py:290: DataSet.__init__ (from tensorflow.contrib.learn.python.learn.datasets.mnist) is deprecated and will be removed in a future version.\n",
      "Instructions for updating:\n",
      "Please use alternatives such as official/mnist/dataset.py from tensorflow/models.\n"
     ]
    },
    {
     "name": "stdout",
     "output_type": "stream",
     "text": [
      "Extracting MNIST_data\\train-labels-idx1-ubyte.gz\n",
      "Extracting MNIST_data\\t10k-images-idx3-ubyte.gz\n",
      "Extracting MNIST_data\\t10k-labels-idx1-ubyte.gz\n"
     ]
    }
   ],
   "source": [
    "mnist = input_data.read_data_sets(\"MNIST_data\", one_hot=True)"
   ]
  },
  {
   "cell_type": "markdown",
   "metadata": {},
   "source": [
    "### 2 设定批次"
   ]
  },
  {
   "cell_type": "code",
   "execution_count": 3,
   "metadata": {
    "collapsed": false
   },
   "outputs": [],
   "source": [
    "batch_size = 50\n",
    "n_batch = mnist.train.num_examples // batch_size  # 总共有多少个批次\n",
    "\n",
    "# 定义训练集占位符\n",
    "with tf.name_scope('input'):\n",
    "    x = tf.placeholder(tf.float32, [None, 784], name='input_x')  # 每一行表示一个样本，内容是784为的像素值\n",
    "    y = tf.placeholder(tf.float32, [None, 10], name='input_y')   # 每一行表示一个label，采用杜热编码\n",
    "    x_image = tf.reshape(x, [-1,28,28,1], name='to_an_image')  # 输入转换为图片的pattern\n",
    "    \n",
    "keep_prob = tf.placeholder(tf.float32)\n",
    "\n",
    "\n",
    "# 参数概要\n",
    "def variable_summary(var):\n",
    "    with tf.name_scope('summaries'):\n",
    "        mean = tf.reduce_mean(var)\n",
    "        tf.summary.scalar('平均值', mean)               # 求平均值\n",
    "        with tf.name_scope('stddev'):\n",
    "            stddev = tf.sqrt(tf.reduce_mean(tf.square(var - mean)))\n",
    "        tf.summary.scalar('方差', stddev)           # 标准差\n",
    "        tf.summary.scalar('最大值', tf.reduce_max(var))  # 最大值\n",
    "        tf.summary.scalar('最小值', tf.reduce_min(var))  # 最小值\n",
    "        tf.summary.histogram('直方图', var)        # 直方图"
   ]
  },
  {
   "cell_type": "markdown",
   "metadata": {},
   "source": [
    "### 3 初始化权重和偏差"
   ]
  },
  {
   "cell_type": "code",
   "execution_count": 4,
   "metadata": {
    "collapsed": true
   },
   "outputs": [],
   "source": [
    "def weight_variable(shape):\n",
    "    initial = tf.truncated_normal(shape=shape, stddev=0.1, name='weight_hahaha')\n",
    "    return tf.Variable(initial)\n",
    "\n",
    "\n",
    "def bias_variable(shape):  # 初始化为0.1\n",
    "    initial = tf.constant(0.1, shape=shape, name='bias_hahaha')\n",
    "    return tf.Variable(initial)"
   ]
  },
  {
   "cell_type": "markdown",
   "metadata": {},
   "source": [
    "### 卷积层与池化层"
   ]
  },
  {
   "cell_type": "code",
   "execution_count": 5,
   "metadata": {
    "collapsed": false
   },
   "outputs": [],
   "source": [
    "def conv2d(x, w):  # 2维卷积\n",
    "    # x:输入张量 shape=【批量， 图长， 图宽， 通道】，灰度的通道为1，彩色为3\n",
    "    # w：filter 卷积核张量 shape=【高度， 宽度， 输入通道， 输出通道】输出通道等于卷积核的数\n",
    "    # stride：[batch, height, width, channels].\n",
    "    return tf.nn.conv2d(x, w, strides=[1,1,1,1], padding='SAME')\n",
    "\n",
    "\n",
    "def max_pool_2mul2(x):\n",
    "    # ksize: [1,x,y,1]窗口大小\n",
    "    # stride: 步长\n",
    "    return tf.nn.max_pool(x, ksize=[1,2,2,1], strides=[1,2,2,1], padding='SAME')\n"
   ]
  },
  {
   "cell_type": "markdown",
   "metadata": {},
   "source": [
    "### 3 创建安神经网络（不含隐藏层）"
   ]
  },
  {
   "cell_type": "code",
   "execution_count": 6,
   "metadata": {
    "collapsed": false
   },
   "outputs": [
    {
     "name": "stderr",
     "output_type": "stream",
     "text": [
      "W0818 20:16:50.112776  7956 deprecation.py:506] From <ipython-input-6-2a01baf4396c>:21: calling dropout (from tensorflow.python.ops.nn_ops) with keep_prob is deprecated and will be removed in a future version.\n",
      "Instructions for updating:\n",
      "Please use `rate` instead of `keep_prob`. Rate should be set to `rate = 1 - keep_prob`.\n"
     ]
    }
   ],
   "source": [
    "with tf.name_scope('CNN'):\n",
    "    # 初始化第一个卷积层的权重和偏置\n",
    "    with tf.name_scope('conv_pooling'):\n",
    "        w_conv1 = weight_variable([5,5,1,32])  # 5乘5的采样窗口 32个卷积核\n",
    "        b_conv1 = bias_variable([32])          # 每个卷积核一个偏置\n",
    "        h_conv1 = tf.nn.relu(conv2d(x_image, w_conv1) + b_conv1)  # 卷积\n",
    "        h_pool1 = max_pool_2mul2(h_conv1)                         # 池化\n",
    "\n",
    "        # 初始化第二个卷积层的权重和偏差\n",
    "        w_conv2 = weight_variable([5,5,32,64])  #55的窗口，通道数为32， 卷积核64\n",
    "        b_conv2 = bias_variable([64])\n",
    "        h_conv2 = tf.nn.relu(conv2d(h_pool1, w_conv2) + b_conv2)\n",
    "        h_pool2 = max_pool_2mul2(h_conv2)\n",
    "    \n",
    "    with tf.name_scope('NN'):\n",
    "        # 定义两个全连接层\n",
    "        w_fc1 = weight_variable([7*7*64, 500])  #1024 hidden unit\n",
    "        b_fc1 =bias_variable([500])\n",
    "        h_pool2_flat = tf.reshape(h_pool2, [-1,7*7*64])\n",
    "        h_fc1 = tf.nn.relu(tf.matmul(h_pool2_flat, w_fc1) + b_fc1)\n",
    "        h_fc1_prob = tf.nn.dropout(h_fc1, keep_prob=keep_prob)\n",
    "\n",
    "        w_fc2 = weight_variable([500, 10])  #10 hidden unit\n",
    "        b_fc2 =bias_variable([10])\n",
    "        prediction = tf.nn.softmax(tf.matmul(h_fc1_prob, w_fc2) + b_fc2)"
   ]
  },
  {
   "cell_type": "markdown",
   "metadata": {},
   "source": [
    "### 4 优化器"
   ]
  },
  {
   "cell_type": "code",
   "execution_count": 7,
   "metadata": {
    "collapsed": false
   },
   "outputs": [
    {
     "name": "stderr",
     "output_type": "stream",
     "text": [
      "W0818 20:16:50.268785  7956 deprecation.py:323] From <ipython-input-7-5d028351f30a>:2: softmax_cross_entropy_with_logits (from tensorflow.python.ops.nn_ops) is deprecated and will be removed in a future version.\n",
      "Instructions for updating:\n",
      "\n",
      "Future major versions of TensorFlow will allow gradients to flow\n",
      "into the labels input on backprop by default.\n",
      "\n",
      "See `tf.nn.softmax_cross_entropy_with_logits_v2`.\n",
      "\n"
     ]
    }
   ],
   "source": [
    "with tf.name_scope('loss'):\n",
    "    loss = tf.reduce_mean(tf.nn.softmax_cross_entropy_with_logits(labels=y, logits=prediction))\n",
    "    tf.summary.scalar('loss', loss)\n",
    "    \n",
    "with tf.name_scope('train_step'):\n",
    "    train_step = tf.train.AdamOptimizer(1e-4).minimize(loss)"
   ]
  },
  {
   "cell_type": "markdown",
   "metadata": {},
   "source": [
    "### 5 获取预测结果并计算准确率"
   ]
  },
  {
   "cell_type": "code",
   "execution_count": 8,
   "metadata": {
    "collapsed": false
   },
   "outputs": [
    {
     "name": "stderr",
     "output_type": "stream",
     "text": [
      "W0818 20:16:50.477797  7956 deprecation.py:323] From <ipython-input-8-b86b710cb5ec>:2: arg_max (from tensorflow.python.ops.gen_math_ops) is deprecated and will be removed in a future version.\n",
      "Instructions for updating:\n",
      "Use `tf.math.argmax` instead\n"
     ]
    }
   ],
   "source": [
    "with tf.name_scope('accuracy'):\n",
    "    correct_prediction = tf.equal(tf.arg_max(prediction, 1), tf.arg_max(y, 1))\n",
    "    accuracy = tf.reduce_mean(tf.cast(correct_prediction, tf.float32))\n",
    "    tf.summary.scalar('accuracy', accuracy)"
   ]
  },
  {
   "cell_type": "markdown",
   "metadata": {},
   "source": [
    "### 6 启动会话"
   ]
  },
  {
   "cell_type": "code",
   "execution_count": 9,
   "metadata": {
    "collapsed": false,
    "scrolled": false
   },
   "outputs": [
    {
     "name": "stdout",
     "output_type": "stream",
     "text": [
      "第0圈  准确率是： 0.8518000245094299, 耗时: 72.90117001533508 秒 \n",
      "第1圈  准确率是： 0.8837000131607056, 耗时: 71.85310983657837 秒 \n",
      "第2圈  准确率是： 0.9797000288963318, 耗时: 72.58815169334412 秒 \n",
      "第3圈  准确率是： 0.9800000190734863, 耗时: 73.41619920730591 秒 \n",
      "第4圈  准确率是： 0.986299991607666, 耗时: 73.58420872688293 秒 \n",
      "第5圈  准确率是： 0.9865000247955322, 耗时: 73.67821383476257 秒 \n",
      "第6圈  准确率是： 0.9872999787330627, 耗时: 74.14224076271057 秒 \n",
      "第7圈  准确率是： 0.9890000224113464, 耗时: 73.54920673370361 秒 \n",
      "第8圈  准确率是： 0.9887999892234802, 耗时: 73.95923018455505 秒 \n",
      "第9圈  准确率是： 0.986299991607666, 耗时: 74.44425821304321 秒 \n",
      "第10圈  准确率是： 0.9890000224113464, 耗时: 77.4294285774231 秒 \n",
      "第11圈  准确率是： 0.9904000163078308, 耗时: 80.97963166236877 秒 \n",
      "第12圈  准确率是： 0.9889000058174133, 耗时: 85.00786232948303 秒 \n",
      "第13圈  准确率是： 0.9908999800682068, 耗时: 73.90322709083557 秒 \n",
      "第14圈  准确率是： 0.9908999800682068, 耗时: 73.88722610473633 秒 \n",
      "第15圈  准确率是： 0.9905999898910522, 耗时: 75.53932070732117 秒 \n",
      "第16圈  准确率是： 0.9909999966621399, 耗时: 109.05223751068115 秒 \n",
      "第17圈  准确率是： 0.9900000095367432, 耗时: 90.66218543052673 秒 \n",
      "第18圈  准确率是： 0.9901999831199646, 耗时: 76.013347864151 秒 \n",
      "第19圈  准确率是： 0.9894000291824341, 耗时: 82.52172017097473 秒 \n",
      "第20圈  准确率是： 0.9861000180244446, 耗时: 83.55277895927429 秒 \n"
     ]
    }
   ],
   "source": [
    "merged = tf.summary.merge_all()\n",
    "\n",
    "with tf.Session() as sess:\n",
    "    sess.run(tf.global_variables_initializer())\n",
    "    writer = tf.summary.FileWriter('G:/tensorflow/logs/',sess.graph)\n",
    "    for epoch in range(21):\n",
    "        time1 = time.time()\n",
    "        for batch in range(n_batch):\n",
    "            batch_x, batch_y = mnist.train.next_batch(batch_size)\n",
    "            _, summary = sess.run([train_step, merged], feed_dict={x:batch_x, y:batch_y, keep_prob:1.0})  \n",
    "        writer.add_summary(summary, epoch)\n",
    "        acc = sess.run(accuracy, feed_dict={x:mnist.test.images, y:mnist.test.labels, keep_prob:1.0})  # 用测试集来预测\n",
    "        print(\"第{0}圈  准确率是： {1}, 耗时: {2} 秒 \".format(epoch, acc, time.time()-time1))"
   ]
  },
  {
   "cell_type": "raw",
   "metadata": {
    "collapsed": true
   },
   "source": []
  }
 ],
 "metadata": {
  "kernelspec": {
   "display_name": "Tensor2",
   "language": "python",
   "name": "python3"
  },
  "language_info": {
   "codemirror_mode": {
    "name": "ipython",
    "version": 3
   },
   "file_extension": ".py",
   "mimetype": "text/x-python",
   "name": "python",
   "nbconvert_exporter": "python",
   "pygments_lexer": "ipython3",
   "version": "3.6.2"
  }
 },
 "nbformat": 4,
 "nbformat_minor": 2
}
