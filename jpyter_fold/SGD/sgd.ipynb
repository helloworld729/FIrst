{
 "cells": [
  {
   "cell_type": "code",
   "execution_count": 2,
   "metadata": {
    "collapsed": false
   },
   "outputs": [],
   "source": [
    "from numpy import *"
   ]
  },
  {
   "cell_type": "code",
   "execution_count": 3,
   "metadata": {
    "collapsed": true
   },
   "outputs": [],
   "source": [
    "def matrixTolist(matrix):\n",
    "    r = shape(matrix)[0]\n",
    "    temp = array(matrix)\n",
    "    templist = []\n",
    "    for i in range(r):  # temp[i]是数组，tolist后变成列表\n",
    "        templist.append(temp[i].tolist()[0])\n",
    "    return templist"
   ]
  },
  {
   "cell_type": "code",
   "execution_count": 4,
   "metadata": {
    "collapsed": true
   },
   "outputs": [],
   "source": [
    "def loadDataSet():\n",
    "    dataMat = []; labelMat = []\n",
    "    fr = open('testSet.txt')\n",
    "    for line in fr.readlines():\n",
    "        lineArr = line.strip().split()  # 两个都是字符串处理函数 lineArr为列表\n",
    "        dataMat.append([1.0, float(lineArr[0]), float(lineArr[1])])\n",
    "        labelMat.append(int(lineArr[2]))\n",
    "    return dataMat,labelMat"
   ]
  },
  {
   "cell_type": "code",
   "execution_count": 5,
   "metadata": {
    "collapsed": true
   },
   "outputs": [],
   "source": [
    "def sigmoid(inX):\n",
    "    return 1.0/(1+exp(-inX))"
   ]
  },
  {
   "cell_type": "code",
   "execution_count": 6,
   "metadata": {
    "collapsed": true
   },
   "outputs": [],
   "source": [
    "def gradAscent(dataMatIn, classLabels, Cycles=500):\n",
    "    deltalist = []\n",
    "    dataMatrix = mat(dataMatIn)             # convert to NumPy matrix\n",
    "    labelMat = mat(classLabels).transpose() # convert to NumPy matrix and transpose\n",
    "    m, n = shape(dataMatrix)                # get row and clone\n",
    "    alpha = 0.001                           # 步进值\n",
    "    maxCycles = Cycles                         # 迭代次数限制\n",
    "    weights = ones((n,1))                   # 矩阵  权重初始化\n",
    "    for k in range(maxCycles):              # heavy on matrix operations\n",
    "        h = sigmoid(dataMatrix*weights)     # matrix mult\n",
    "        error = (labelMat - h)              # vector subtraction\n",
    "        weights = weights + alpha * dataMatrix.transpose()* error # book   \n",
    "    return weights                          # 返回权重值"
   ]
  },
  {
   "cell_type": "code",
   "execution_count": 7,
   "metadata": {
    "collapsed": true
   },
   "outputs": [],
   "source": [
    "def plotBestFit(weights):\n",
    "    import matplotlib.pyplot as plt\n",
    "    dataMat, labelMat = loadDataSet()      # 获取数据集和类别标签\n",
    "    dataArr = array(dataMat)\n",
    "    n = shape(dataArr)[0]                  # 数据集的行数目\n",
    "    xcord1 = []; ycord1 = []               # 一类的xy坐标\n",
    "    xcord2 = []; ycord2 = []               # 另一类的xy坐标\n",
    "    for i in range(n):\n",
    "        if int(labelMat[i]) == 1:          # 如果该行数据属于第一类\n",
    "            xcord1.append(dataArr[i,1]); ycord1.append(dataArr[i,2])  # 取出该行的xy值\n",
    "        else:\n",
    "            xcord2.append(dataArr[i,1]); ycord2.append(dataArr[i,2])  # 否则存储到另一类\n",
    "    fig = plt.figure()\n",
    "    ax = fig.add_subplot(111)   # 1行一列的第一个\n",
    "    ax.scatter(xcord1, ycord1, s=30, c='red', marker='s')  # 绘制1类散点图 s是标记的大小 scatter 是播撒的意思\n",
    "    ax.scatter(xcord2, ycord2, s=30, c='green')            # 绘制2类散点图\n",
    "    x = arange(-3.0, 3.0, 0.01)    # 600点\n",
    "    y = (-weights[0]-weights[1]*x)/weights[2]\n",
    "    ax.plot(x, y)\n",
    "    plt.xlabel('X1'); plt.ylabel('X2');  \n",
    "    plt.show()\n"
   ]
  },
  {
   "cell_type": "code",
   "execution_count": 9,
   "metadata": {
    "collapsed": false
   },
   "outputs": [
    {
     "name": "stdout",
     "output_type": "stream",
     "text": [
      "[4.445582219045963, 0.5071199623298146, -0.6573892033139236]\n"
     ]
    },
    {
     "data": {
      "image/png": "[encoded data removed]",
      "text/plain": [
       "<matplotlib.figure.Figure at 0x1833389c50>"
      ]
     },
     "metadata": {},
     "output_type": "display_data"
    }
   ],
   "source": [
    "dataset, classlabel = loadDataSet()\n",
    "\n",
    "weight = gradAscent(dataset, classlabel,600)   # 返回weight矩阵\n",
    "weight = matrixTolist(weight)    # 返回weight矩阵\n",
    "print(weight)\n",
    "\n",
    "plotBestFit(weight)"
   ]
  },
  {
   "cell_type": "code",
   "execution_count": null,
   "metadata": {
    "collapsed": true
   },
   "outputs": [],
   "source": []
  }
 ],
 "metadata": {
  "kernelspec": {
   "display_name": "Python 3",
   "language": "python",
   "name": "python3"
  },
  "language_info": {
   "codemirror_mode": {
    "name": "ipython",
    "version": 3
   },
   "file_extension": ".py",
   "mimetype": "text/x-python",
   "name": "python",
   "nbconvert_exporter": "python",
   "pygments_lexer": "ipython3",
   "version": "3.6.0"
  }
 },
 "nbformat": 4,
 "nbformat_minor": 2
}
