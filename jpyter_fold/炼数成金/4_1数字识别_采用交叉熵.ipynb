{
 "cells": [
  {
   "cell_type": "code",
   "execution_count": 3,
   "metadata": {
    "collapsed": false
   },
   "outputs": [],
   "source": [
    "import tensorflow as tf\n",
    "import numpy as np\n",
    "from tensorflow.examples.tutorials.mnist import input_data"
   ]
  },
  {
   "cell_type": "markdown",
   "metadata": {},
   "source": [
    "### 1 加载数据集"
   ]
  },
  {
   "cell_type": "code",
   "execution_count": 4,
   "metadata": {
    "collapsed": false
   },
   "outputs": [
    {
     "name": "stdout",
     "output_type": "stream",
     "text": [
      "Extracting MNIST_data\\train-images-idx3-ubyte.gz\n",
      "Extracting MNIST_data\\train-labels-idx1-ubyte.gz\n",
      "Extracting MNIST_data\\t10k-images-idx3-ubyte.gz\n",
      "Extracting MNIST_data\\t10k-labels-idx1-ubyte.gz\n"
     ]
    }
   ],
   "source": [
    "mnist = input_data.read_data_sets(\"MNIST_data\", one_hot=True)"
   ]
  },
  {
   "cell_type": "markdown",
   "metadata": {},
   "source": [
    "### 2 设定批次"
   ]
  },
  {
   "cell_type": "code",
   "execution_count": 5,
   "metadata": {
    "collapsed": false
   },
   "outputs": [],
   "source": [
    "batch_size = 50\n",
    "n_batch = mnist.train.num_examples // batch_size  # 总共有多少个批次\n",
    "\n",
    "# 定义训练集占位符\n",
    "x = tf.placeholder(tf.float32, [None, 784])  # 每一行表示一个样本，内容是784为的像素值\n",
    "y = tf.placeholder(tf.float32, [None, 10])   # 每一行表示一个label，采用杜热编码"
   ]
  },
  {
   "cell_type": "markdown",
   "metadata": {},
   "source": [
    "### 3 创建安神经网络（不含隐藏层）"
   ]
  },
  {
   "cell_type": "code",
   "execution_count": 6,
   "metadata": {
    "collapsed": false
   },
   "outputs": [
    {
     "name": "stdout",
     "output_type": "stream",
     "text": [
      "(?, 100)\n"
     ]
    }
   ],
   "source": [
    "w1 = tf.Variable(tf.random_normal([784, 100]) * 0.01)\n",
    "b1 = tf.Variable(tf.random_normal([100]) * 0.01)\n",
    "wx_plus_b_l1 = tf.matmul(x, w1) + b1\n",
    "l1 = tf.nn.tanh(wx_plus_b_l1)\n",
    "print(l1.shape)\n",
    "\n",
    "w2 = tf.Variable(tf.random_normal([100,10]) * 0.01)\n",
    "b2 = tf.Variable(tf.random_normal([10]) * 0.01)\n",
    "wx_plus_b_l2 = tf.matmul(l1, w2) + b2\n",
    "prediction = tf.nn.softmax(wx_plus_b_l2)"
   ]
  },
  {
   "cell_type": "markdown",
   "metadata": {},
   "source": [
    "### 4 优化器"
   ]
  },
  {
   "cell_type": "code",
   "execution_count": 12,
   "metadata": {
    "collapsed": false
   },
   "outputs": [],
   "source": [
    "# loss = tf.reduce_mean(tf.square(y-prediction))\n",
    "loss = tf.reduce_mean(tf.nn.softmax_cross_entropy_with_logits(labels=y, logits=prediction))\n",
    "train_step = tf.train.GradientDescentOptimizer(0.3).minimize(loss)"
   ]
  },
  {
   "cell_type": "markdown",
   "metadata": {},
   "source": [
    "### 5 获取预测结果并计算准确率"
   ]
  },
  {
   "cell_type": "code",
   "execution_count": 13,
   "metadata": {
    "collapsed": false
   },
   "outputs": [],
   "source": [
    "correct_prediction = tf.equal(tf.arg_max(prediction, 1), tf.arg_max(y, 1))\n",
    "accuracy = tf.reduce_mean(tf.cast(correct_prediction, tf.float32))"
   ]
  },
  {
   "cell_type": "markdown",
   "metadata": {},
   "source": [
    "### 6 启动会话"
   ]
  },
  {
   "cell_type": "code",
   "execution_count": 14,
   "metadata": {
    "collapsed": false
   },
   "outputs": [
    {
     "name": "stdout",
     "output_type": "stream",
     "text": [
      "第0圈  准确率是： 0.9078999757766724\n",
      "第1圈  准确率是： 0.9294000267982483\n",
      "第2圈  准确率是： 0.9366000294685364\n",
      "第3圈  准确率是： 0.9438999891281128\n",
      "第4圈  准确率是： 0.9491999745368958\n",
      "第5圈  准确率是： 0.9526000022888184\n",
      "第6圈  准确率是： 0.9549000263214111\n",
      "第7圈  准确率是： 0.9564999938011169\n",
      "第8圈  准确率是： 0.9593999981880188\n",
      "第9圈  准确率是： 0.9613999724388123\n",
      "第10圈  准确率是： 0.9639000296592712\n",
      "第11圈  准确率是： 0.9613000154495239\n",
      "第12圈  准确率是： 0.964900016784668\n",
      "第13圈  准确率是： 0.9660000205039978\n",
      "第14圈  准确率是： 0.9659000039100647\n",
      "第15圈  准确率是： 0.9663000106811523\n",
      "第16圈  准确率是： 0.9668999910354614\n",
      "第17圈  准确率是： 0.968500018119812\n",
      "第18圈  准确率是： 0.9684000015258789\n",
      "第19圈  准确率是： 0.9688000082969666\n",
      "第20圈  准确率是： 0.9692999720573425\n"
     ]
    }
   ],
   "source": [
    "with tf.Session() as sess:\n",
    "    sess.run(tf.global_variables_initializer())\n",
    "    for epoch in range(21):\n",
    "        for batch in range(n_batch):\n",
    "            batch_x, batch_y = mnist.train.next_batch(batch_size)\n",
    "            sess.run(train_step, feed_dict={x:batch_x, y:batch_y})\n",
    "        acc = sess.run(accuracy, feed_dict={x:mnist.test.images, y:mnist.test.labels})  # 用测试集来预测\n",
    "        print(\"第{0}圈  准确率是： {1}\".format(epoch, acc))"
   ]
  },
  {
   "cell_type": "code",
   "execution_count": null,
   "metadata": {
    "collapsed": true
   },
   "outputs": [],
   "source": [
    "# 二次代价函数\n",
    "第0圈  准确率是： 0.6956999897956848\n",
    "第1圈  准确率是： 0.8889999985694885\n",
    "第2圈  准确率是： 0.9064000248908997\n",
    "第3圈  准确率是： 0.9142000079154968\n",
    "第4圈  准确率是： 0.9205999970436096\n",
    "第5圈  准确率是： 0.9247999787330627\n",
    "第6圈  准确率是： 0.928600013256073\n",
    "第7圈  准确率是： 0.9312000274658203\n",
    "第8圈  准确率是： 0.932699978351593\n",
    "第9圈  准确率是： 0.9344000220298767\n",
    "第10圈  准确率是： 0.9362000226974487\n",
    "第11圈  准确率是： 0.939300000667572\n",
    "第12圈  准确率是： 0.9395999908447266\n",
    "第13圈  准确率是： 0.941100001335144\n",
    "第14圈  准确率是： 0.9435999989509583\n",
    "第15圈  准确率是： 0.9437999725341797\n",
    "第16圈  准确率是： 0.9466000199317932\n",
    "第17圈  准确率是： 0.9473999738693237\n",
    "第18圈  准确率是： 0.9483000040054321\n",
    "第19圈  准确率是： 0.9501000046730042\n",
    "第20圈  准确率是： 0.9498000144958496\n",
    "\n",
    "# 交叉熵\n",
    "第0圈  准确率是： 0.9078999757766724\n",
    "第1圈  准确率是： 0.9294000267982483\n",
    "第2圈  准确率是： 0.9366000294685364\n",
    "第3圈  准确率是： 0.9438999891281128\n",
    "第4圈  准确率是： 0.9491999745368958\n",
    "第5圈  准确率是： 0.9526000022888184\n",
    "第6圈  准确率是： 0.9549000263214111\n",
    "第7圈  准确率是： 0.9564999938011169\n",
    "第8圈  准确率是： 0.9593999981880188\n",
    "第9圈  准确率是： 0.9613999724388123\n",
    "第10圈  准确率是： 0.9639000296592712\n",
    "第11圈  准确率是： 0.9613000154495239\n",
    "第12圈  准确率是： 0.964900016784668\n",
    "第13圈  准确率是： 0.9660000205039978\n",
    "第14圈  准确率是： 0.9659000039100647\n",
    "第15圈  准确率是： 0.9663000106811523\n",
    "第16圈  准确率是： 0.9668999910354614\n",
    "第17圈  准确率是： 0.968500018119812\n",
    "第18圈  准确率是： 0.9684000015258789\n",
    "第19圈  准确率是： 0.9688000082969666\n",
    "第20圈  准确率是： 0.9692999720573425 \n"
   ]
  },
  {
   "cell_type": "code",
   "execution_count": null,
   "metadata": {
    "collapsed": true
   },
   "outputs": [],
   "source": []
  }
 ],
 "metadata": {
  "kernelspec": {
   "display_name": "Python 3",
   "language": "python",
   "name": "python3"
  },
  "language_info": {
   "codemirror_mode": {
    "name": "ipython",
    "version": 3
   },
   "file_extension": ".py",
   "mimetype": "text/x-python",
   "name": "python",
   "nbconvert_exporter": "python",
   "pygments_lexer": "ipython3",
   "version": "3.6.0"
  }
 },
 "nbformat": 4,
 "nbformat_minor": 2
}
