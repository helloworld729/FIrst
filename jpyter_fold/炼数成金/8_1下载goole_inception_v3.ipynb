{
 "cells": [
  {
   "cell_type": "code",
   "execution_count": 20,
   "metadata": {
    "collapsed": false
   },
   "outputs": [],
   "source": [
    "import tensorflow as tf\n",
    "import os\n",
    "import requests\n",
    "import tarfile\n"
   ]
  },
  {
   "cell_type": "code",
   "execution_count": 3,
   "metadata": {
    "collapsed": true
   },
   "outputs": [],
   "source": [
    "# inception 模型download地址\n",
    "inception_pretrain_model_url = 'https://download.tensorflow.org/models/image/imagenet/inception-2015-12-05.tgz'\n",
    "\n",
    "# 模型存放文件夹地址\n",
    "inception_pretrain_model_dir = \"J:/tensorflow/inception_model\"\n",
    "if not os.path.exists(inception_pretrain_model_dir):\n",
    "    os.makedirs(inception_pretrain_model_dir)\n",
    "    \n",
    "# 获取文件名以及文件路径\n",
    "filename = inception_pretrain_model_url.split('/')[-1]  # inception-2015-12-05\n",
    "filepath = os.path.join(inception_pretrain_model_dir, filename)"
   ]
  },
  {
   "cell_type": "code",
   "execution_count": 23,
   "metadata": {
    "collapsed": false
   },
   "outputs": [],
   "source": [
    "# 下载模型\n",
    "# if not os.path.exists(filepath):\n",
    "#     r = urllib3.request.get(inception_pretrain_model_url, stream=True)\n",
    "#     with open(filepath, 'wb') as f:\n",
    "#         print('download: ', filename)\n",
    "#         for chunk in r.iter_content(chunk_size=1024):\n",
    "#             if chunk:\n",
    "#                 f.write(chunk)\n",
    "#     print('finish ', filename)"
   ]
  },
  {
   "cell_type": "code",
   "execution_count": 24,
   "metadata": {
    "collapsed": true
   },
   "outputs": [],
   "source": [
    "# 解压文件\n",
    "tarfile.open(filepath,'r:gz').extractall(inception_pretrain_model_dir)"
   ]
  },
  {
   "cell_type": "code",
   "execution_count": 25,
   "metadata": {
    "collapsed": true
   },
   "outputs": [],
   "source": [
    "# 模型存放文件\n",
    "log_dir = 'J:/tensorflow/inception_log'\n",
    "if not os.path.exists(log_dir):\n",
    "    os.makedirs(log_dir)\n",
    "inception_model_file = os.path.join(inception_pretrain_model_dir,'classify_image_graph_def.pb')"
   ]
  },
  {
   "cell_type": "code",
   "execution_count": 27,
   "metadata": {
    "collapsed": false
   },
   "outputs": [],
   "source": [
    "with tf.Session() as sess:\n",
    "    with tf.gfile.FastGFile(inception_model_file, 'rb') as f:\n",
    "        graph_def = tf.GraphDef()\n",
    "        graph_def.ParseFromString(f.read())\n",
    "        tf.import_graph_def(graph_def, name='')\n",
    "    write = tf.summary.FileWriter(log_dir,sess.graph)\n",
    "    write.close()"
   ]
  },
  {
   "cell_type": "code",
   "execution_count": null,
   "metadata": {
    "collapsed": true
   },
   "outputs": [],
   "source": [
    "# 爬虫这一块没有做好，是手动下载的"
   ]
  }
 ],
 "metadata": {
  "kernelspec": {
   "display_name": "Python 3",
   "language": "python",
   "name": "python3"
  },
  "language_info": {
   "codemirror_mode": {
    "name": "ipython",
    "version": 3
   },
   "file_extension": ".py",
   "mimetype": "text/x-python",
   "name": "python",
   "nbconvert_exporter": "python",
   "pygments_lexer": "ipython3",
   "version": "3.6.0"
  }
 },
 "nbformat": 4,
 "nbformat_minor": 2
}
