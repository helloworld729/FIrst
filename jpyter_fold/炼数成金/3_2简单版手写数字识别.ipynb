{
 "cells": [
  {
   "cell_type": "code",
   "execution_count": 1,
   "metadata": {
    "collapsed": false
   },
   "outputs": [
    {
     "name": "stderr",
     "output_type": "stream",
     "text": [
      "C:\\ProgramData\\Anaconda3\\envs\\Tensor2\\lib\\site-packages\\tensorflow\\python\\framework\\dtypes.py:516: FutureWarning: Passing (type, 1) or '1type' as a synonym of type is deprecated; in a future version of numpy, it will be understood as (type, (1,)) / '(1,)type'.\n",
      "  _np_qint8 = np.dtype([(\"qint8\", np.int8, 1)])\n",
      "C:\\ProgramData\\Anaconda3\\envs\\Tensor2\\lib\\site-packages\\tensorflow\\python\\framework\\dtypes.py:517: FutureWarning: Passing (type, 1) or '1type' as a synonym of type is deprecated; in a future version of numpy, it will be understood as (type, (1,)) / '(1,)type'.\n",
      "  _np_quint8 = np.dtype([(\"quint8\", np.uint8, 1)])\n",
      "C:\\ProgramData\\Anaconda3\\envs\\Tensor2\\lib\\site-packages\\tensorflow\\python\\framework\\dtypes.py:518: FutureWarning: Passing (type, 1) or '1type' as a synonym of type is deprecated; in a future version of numpy, it will be understood as (type, (1,)) / '(1,)type'.\n",
      "  _np_qint16 = np.dtype([(\"qint16\", np.int16, 1)])\n",
      "C:\\ProgramData\\Anaconda3\\envs\\Tensor2\\lib\\site-packages\\tensorflow\\python\\framework\\dtypes.py:519: FutureWarning: Passing (type, 1) or '1type' as a synonym of type is deprecated; in a future version of numpy, it will be understood as (type, (1,)) / '(1,)type'.\n",
      "  _np_quint16 = np.dtype([(\"quint16\", np.uint16, 1)])\n",
      "C:\\ProgramData\\Anaconda3\\envs\\Tensor2\\lib\\site-packages\\tensorflow\\python\\framework\\dtypes.py:520: FutureWarning: Passing (type, 1) or '1type' as a synonym of type is deprecated; in a future version of numpy, it will be understood as (type, (1,)) / '(1,)type'.\n",
      "  _np_qint32 = np.dtype([(\"qint32\", np.int32, 1)])\n",
      "C:\\ProgramData\\Anaconda3\\envs\\Tensor2\\lib\\site-packages\\tensorflow\\python\\framework\\dtypes.py:525: FutureWarning: Passing (type, 1) or '1type' as a synonym of type is deprecated; in a future version of numpy, it will be understood as (type, (1,)) / '(1,)type'.\n",
      "  np_resource = np.dtype([(\"resource\", np.ubyte, 1)])\n",
      "C:\\Users\\G\\AppData\\Roaming\\Python\\Python36\\site-packages\\tensorboard\\compat\\tensorflow_stub\\dtypes.py:541: FutureWarning: Passing (type, 1) or '1type' as a synonym of type is deprecated; in a future version of numpy, it will be understood as (type, (1,)) / '(1,)type'.\n",
      "  _np_qint8 = np.dtype([(\"qint8\", np.int8, 1)])\n",
      "C:\\Users\\G\\AppData\\Roaming\\Python\\Python36\\site-packages\\tensorboard\\compat\\tensorflow_stub\\dtypes.py:542: FutureWarning: Passing (type, 1) or '1type' as a synonym of type is deprecated; in a future version of numpy, it will be understood as (type, (1,)) / '(1,)type'.\n",
      "  _np_quint8 = np.dtype([(\"quint8\", np.uint8, 1)])\n",
      "C:\\Users\\G\\AppData\\Roaming\\Python\\Python36\\site-packages\\tensorboard\\compat\\tensorflow_stub\\dtypes.py:543: FutureWarning: Passing (type, 1) or '1type' as a synonym of type is deprecated; in a future version of numpy, it will be understood as (type, (1,)) / '(1,)type'.\n",
      "  _np_qint16 = np.dtype([(\"qint16\", np.int16, 1)])\n",
      "C:\\Users\\G\\AppData\\Roaming\\Python\\Python36\\site-packages\\tensorboard\\compat\\tensorflow_stub\\dtypes.py:544: FutureWarning: Passing (type, 1) or '1type' as a synonym of type is deprecated; in a future version of numpy, it will be understood as (type, (1,)) / '(1,)type'.\n",
      "  _np_quint16 = np.dtype([(\"quint16\", np.uint16, 1)])\n",
      "C:\\Users\\G\\AppData\\Roaming\\Python\\Python36\\site-packages\\tensorboard\\compat\\tensorflow_stub\\dtypes.py:545: FutureWarning: Passing (type, 1) or '1type' as a synonym of type is deprecated; in a future version of numpy, it will be understood as (type, (1,)) / '(1,)type'.\n",
      "  _np_qint32 = np.dtype([(\"qint32\", np.int32, 1)])\n",
      "C:\\Users\\G\\AppData\\Roaming\\Python\\Python36\\site-packages\\tensorboard\\compat\\tensorflow_stub\\dtypes.py:550: FutureWarning: Passing (type, 1) or '1type' as a synonym of type is deprecated; in a future version of numpy, it will be understood as (type, (1,)) / '(1,)type'.\n",
      "  np_resource = np.dtype([(\"resource\", np.ubyte, 1)])\n"
     ]
    }
   ],
   "source": [
    "import tensorflow as tf\n",
    "import numpy as np\n",
    "from tensorflow.examples.tutorials.mnist import input_data\n",
    "import time"
   ]
  },
  {
   "cell_type": "markdown",
   "metadata": {},
   "source": [
    "### 1 加载数据集"
   ]
  },
  {
   "cell_type": "code",
   "execution_count": 2,
   "metadata": {
    "collapsed": false
   },
   "outputs": [
    {
     "name": "stderr",
     "output_type": "stream",
     "text": [
      "WARNING: Logging before flag parsing goes to stderr.\n",
      "W0819 14:56:20.321692  7696 deprecation.py:323] From <ipython-input-2-83231f068ae1>:1: read_data_sets (from tensorflow.contrib.learn.python.learn.datasets.mnist) is deprecated and will be removed in a future version.\n",
      "Instructions for updating:\n",
      "Please use alternatives such as official/mnist/dataset.py from tensorflow/models.\n",
      "W0819 14:56:20.322692  7696 deprecation.py:323] From C:\\ProgramData\\Anaconda3\\envs\\Tensor2\\lib\\site-packages\\tensorflow\\contrib\\learn\\python\\learn\\datasets\\mnist.py:260: maybe_download (from tensorflow.contrib.learn.python.learn.datasets.base) is deprecated and will be removed in a future version.\n",
      "Instructions for updating:\n",
      "Please write your own downloading logic.\n",
      "W0819 14:56:20.324692  7696 deprecation.py:323] From C:\\ProgramData\\Anaconda3\\envs\\Tensor2\\lib\\site-packages\\tensorflow\\contrib\\learn\\python\\learn\\datasets\\mnist.py:262: extract_images (from tensorflow.contrib.learn.python.learn.datasets.mnist) is deprecated and will be removed in a future version.\n",
      "Instructions for updating:\n",
      "Please use tf.data to implement this functionality.\n"
     ]
    },
    {
     "name": "stdout",
     "output_type": "stream",
     "text": [
      "Extracting MNIST_data\\train-images-idx3-ubyte.gz\n"
     ]
    },
    {
     "name": "stderr",
     "output_type": "stream",
     "text": [
      "W0819 14:56:20.548705  7696 deprecation.py:323] From C:\\ProgramData\\Anaconda3\\envs\\Tensor2\\lib\\site-packages\\tensorflow\\contrib\\learn\\python\\learn\\datasets\\mnist.py:267: extract_labels (from tensorflow.contrib.learn.python.learn.datasets.mnist) is deprecated and will be removed in a future version.\n",
      "Instructions for updating:\n",
      "Please use tf.data to implement this functionality.\n",
      "W0819 14:56:20.551705  7696 deprecation.py:323] From C:\\ProgramData\\Anaconda3\\envs\\Tensor2\\lib\\site-packages\\tensorflow\\contrib\\learn\\python\\learn\\datasets\\mnist.py:110: dense_to_one_hot (from tensorflow.contrib.learn.python.learn.datasets.mnist) is deprecated and will be removed in a future version.\n",
      "Instructions for updating:\n",
      "Please use tf.one_hot on tensors.\n",
      "W0819 14:56:20.594708  7696 deprecation.py:323] From C:\\ProgramData\\Anaconda3\\envs\\Tensor2\\lib\\site-packages\\tensorflow\\contrib\\learn\\python\\learn\\datasets\\mnist.py:290: DataSet.__init__ (from tensorflow.contrib.learn.python.learn.datasets.mnist) is deprecated and will be removed in a future version.\n",
      "Instructions for updating:\n",
      "Please use alternatives such as official/mnist/dataset.py from tensorflow/models.\n"
     ]
    },
    {
     "name": "stdout",
     "output_type": "stream",
     "text": [
      "Extracting MNIST_data\\train-labels-idx1-ubyte.gz\n",
      "Extracting MNIST_data\\t10k-images-idx3-ubyte.gz\n",
      "Extracting MNIST_data\\t10k-labels-idx1-ubyte.gz\n"
     ]
    }
   ],
   "source": [
    "mnist = input_data.read_data_sets(\"MNIST_data\", one_hot=True)"
   ]
  },
  {
   "cell_type": "markdown",
   "metadata": {},
   "source": [
    "### 2 设定批次"
   ]
  },
  {
   "cell_type": "code",
   "execution_count": 3,
   "metadata": {
    "collapsed": false
   },
   "outputs": [],
   "source": [
    "batch_size = 50\n",
    "n_batch = mnist.train.num_examples // batch_size  # 总共有多少个批次\n",
    "\n",
    "with tf.name_scope('input'):\n",
    "    x = tf.placeholder(tf.float32, [None, 784], name='input_x')  # 每一行表示一个样本，内容是784为的像素值\n",
    "    y = tf.placeholder(tf.float32, [None, 10], name='input_y')   # 每一行表示一个label，采用杜热编码"
   ]
  },
  {
   "cell_type": "markdown",
   "metadata": {},
   "source": [
    "### 3 创建安神经网络（不含隐藏层）"
   ]
  },
  {
   "cell_type": "code",
   "execution_count": 4,
   "metadata": {
    "collapsed": false
   },
   "outputs": [
    {
     "name": "stdout",
     "output_type": "stream",
     "text": [
      "(?, 100)\n"
     ]
    }
   ],
   "source": [
    "w1 = tf.Variable(tf.random_normal([784, 100]) * 0.01)\n",
    "b1 = tf.Variable(tf.random_normal([100]) * 0.01)\n",
    "wx_plus_b_l1 = tf.matmul(x, w1) + b1\n",
    "l1 = tf.nn.tanh(wx_plus_b_l1)\n",
    "print(l1.shape)\n",
    "\n",
    "w2 = tf.Variable(tf.random_normal([100,10]) * 0.01)\n",
    "b2 = tf.Variable(tf.random_normal([10]) * 0.01)\n",
    "wx_plus_b_l2 = tf.matmul(l1, w2) + b2\n",
    "prediction = tf.nn.softmax(wx_plus_b_l2)\n"
   ]
  },
  {
   "cell_type": "markdown",
   "metadata": {},
   "source": [
    "### 4 优化器"
   ]
  },
  {
   "cell_type": "code",
   "execution_count": 5,
   "metadata": {
    "collapsed": false
   },
   "outputs": [
    {
     "name": "stderr",
     "output_type": "stream",
     "text": [
      "W0819 14:56:21.077735  7696 deprecation.py:323] From <ipython-input-5-f03ffb6d6254>:3: softmax_cross_entropy_with_logits (from tensorflow.python.ops.nn_ops) is deprecated and will be removed in a future version.\n",
      "Instructions for updating:\n",
      "\n",
      "Future major versions of TensorFlow will allow gradients to flow\n",
      "into the labels input on backprop by default.\n",
      "\n",
      "See `tf.nn.softmax_cross_entropy_with_logits_v2`.\n",
      "\n"
     ]
    }
   ],
   "source": [
    "# loss = tf.reduce_mean(tf.square(y-prediction))\n",
    "with tf.name_scope('loss'):\n",
    "    loss = tf.reduce_mean(tf.nn.softmax_cross_entropy_with_logits(labels=y, logits=prediction))\n",
    "    tf.summary.scalar('loss', loss)\n",
    "    \n",
    "with tf.name_scope('train_step'):\n",
    "    train_step = tf.train.AdamOptimizer(1e-4).minimize(loss)"
   ]
  },
  {
   "cell_type": "markdown",
   "metadata": {},
   "source": [
    "### 5 获取预测结果并计算准确率"
   ]
  },
  {
   "cell_type": "code",
   "execution_count": 6,
   "metadata": {
    "collapsed": false
   },
   "outputs": [
    {
     "name": "stderr",
     "output_type": "stream",
     "text": [
      "W0819 14:56:21.221744  7696 deprecation.py:323] From <ipython-input-6-b86b710cb5ec>:2: arg_max (from tensorflow.python.ops.gen_math_ops) is deprecated and will be removed in a future version.\n",
      "Instructions for updating:\n",
      "Use `tf.math.argmax` instead\n"
     ]
    }
   ],
   "source": [
    "with tf.name_scope('accuracy'):\n",
    "    correct_prediction = tf.equal(tf.arg_max(prediction, 1), tf.arg_max(y, 1))\n",
    "    accuracy = tf.reduce_mean(tf.cast(correct_prediction, tf.float32))\n",
    "    tf.summary.scalar('accuracy', accuracy)"
   ]
  },
  {
   "cell_type": "markdown",
   "metadata": {},
   "source": [
    "### 6 启动会话"
   ]
  },
  {
   "cell_type": "code",
   "execution_count": 7,
   "metadata": {
    "collapsed": false
   },
   "outputs": [
    {
     "name": "stdout",
     "output_type": "stream",
     "text": [
      "第0圈  准确率是： 0.8702999949455261, 耗时: 0.962054967880249 秒 \n",
      "第1圈  准确率是： 0.900600016117096, 耗时: 0.8650496006011963 秒 \n",
      "第2圈  准确率是： 0.9103999733924866, 耗时: 0.8600492477416992 秒 \n",
      "第3圈  准确率是： 0.9172999858856201, 耗时: 0.9530544281005859 秒 \n",
      "第4圈  准确率是： 0.92330002784729, 耗时: 0.8830506801605225 秒 \n",
      "第5圈  准确率是： 0.9265000224113464, 耗时: 0.8750500679016113 秒 \n",
      "第6圈  准确率是： 0.9298999905586243, 耗时: 0.8700497150421143 秒 \n",
      "第7圈  准确率是： 0.9320999979972839, 耗时: 0.8660495281219482 秒 \n",
      "第8圈  准确率是： 0.9337000250816345, 耗时: 0.8830506801605225 秒 \n",
      "第9圈  准确率是： 0.9362000226974487, 耗时: 1.0260586738586426 秒 \n",
      "第10圈  准确率是： 0.9390000104904175, 耗时: 0.8760499954223633 秒 \n",
      "第11圈  准确率是： 0.9412000179290771, 耗时: 0.8670496940612793 秒 \n",
      "第12圈  准确率是： 0.9419000148773193, 耗时: 0.8660495281219482 秒 \n",
      "第13圈  准确率是： 0.944100022315979, 耗时: 0.8620493412017822 秒 \n",
      "第14圈  准确率是： 0.9451000094413757, 耗时: 0.8620491027832031 秒 \n",
      "第15圈  准确率是： 0.9473999738693237, 耗时: 0.950054407119751 秒 \n",
      "第16圈  准确率是： 0.9487000107765198, 耗时: 0.8710496425628662 秒 \n",
      "第17圈  准确率是： 0.9492999911308289, 耗时: 0.8660495281219482 秒 \n",
      "第18圈  准确率是： 0.9510999917984009, 耗时: 0.8680496215820312 秒 \n",
      "第19圈  准确率是： 0.9506999850273132, 耗时: 0.8780503273010254 秒 \n",
      "第20圈  准确率是： 0.9521999955177307, 耗时: 0.8590493202209473 秒 \n",
      "第21圈  准确率是： 0.9534000158309937, 耗时: 0.9530544281005859 秒 \n",
      "第22圈  准确率是： 0.9532999992370605, 耗时: 0.8640494346618652 秒 \n",
      "第23圈  准确率是： 0.9545000195503235, 耗时: 0.8700497150421143 秒 \n",
      "第24圈  准确率是： 0.9556999802589417, 耗时: 0.8640494346618652 秒 \n",
      "第25圈  准确率是： 0.957099974155426, 耗时: 0.8690497875213623 秒 \n",
      "第26圈  准确率是： 0.9574999809265137, 耗时: 0.8950510025024414 秒 \n",
      "第27圈  准确率是： 0.9574999809265137, 耗时: 0.9810564517974854 秒 \n",
      "第28圈  准确率是： 0.9581999778747559, 耗时: 0.8860504627227783 秒 \n",
      "第29圈  准确率是： 0.9595999717712402, 耗时: 0.8750500679016113 秒 \n",
      "第30圈  准确率是： 0.9595999717712402, 耗时: 0.8710496425628662 秒 \n",
      "第31圈  准确率是： 0.9603999853134155, 耗时: 0.8680496215820312 秒 \n",
      "第32圈  准确率是： 0.9614999890327454, 耗时: 0.9670555591583252 秒 \n",
      "第33圈  准确率是： 0.9617000222206116, 耗时: 0.9260528087615967 秒 \n",
      "第34圈  准确率是： 0.9617000222206116, 耗时: 0.8840506076812744 秒 \n",
      "第35圈  准确率是： 0.9624999761581421, 耗时: 0.8940510749816895 秒 \n",
      "第36圈  准确率是： 0.9632999897003174, 耗时: 0.9310534000396729 秒 \n",
      "第37圈  准确率是： 0.9634000062942505, 耗时: 0.8760502338409424 秒 \n",
      "第38圈  准确率是： 0.9634000062942505, 耗时: 0.9670553207397461 秒 \n",
      "第39圈  准确率是： 0.9641000032424927, 耗时: 0.9250528812408447 秒 \n",
      "第40圈  准确率是： 0.9629999995231628, 耗时: 0.8670494556427002 秒 \n",
      "第41圈  准确率是： 0.9639000296592712, 耗时: 0.8670496940612793 秒 \n",
      "第42圈  准确率是： 0.9643999934196472, 耗时: 0.9310534000396729 秒 \n",
      "第43圈  准确率是： 0.9646000266075134, 耗时: 0.9210526943206787 秒 \n",
      "第44圈  准确率是： 0.9650999903678894, 耗时: 0.9560546875 秒 \n",
      "第45圈  准确率是： 0.9653000235557556, 耗时: 0.8650493621826172 秒 \n",
      "第46圈  准确率是： 0.9649999737739563, 耗时: 0.8630492687225342 秒 \n",
      "第47圈  准确率是： 0.9659000039100647, 耗时: 0.8740501403808594 秒 \n",
      "第48圈  准确率是： 0.9667999744415283, 耗时: 0.8680496215820312 秒 \n",
      "第49圈  准确率是： 0.9664000272750854, 耗时: 0.8880507946014404 秒 \n",
      "第50圈  准确率是： 0.9667999744415283, 耗时: 1.07206130027771 秒 \n"
     ]
    }
   ],
   "source": [
    "merged = tf.summary.merge_all()\n",
    "\n",
    "with tf.Session() as sess:\n",
    "    sess.run(tf.global_variables_initializer())\n",
    "    writer = tf.summary.FileWriter('G:/tensorflow/logs2/',sess.graph)\n",
    "    for epoch in range(51):\n",
    "        time1 = time.time()\n",
    "        for batch in range(n_batch):\n",
    "            batch_x, batch_y = mnist.train.next_batch(batch_size)\n",
    "            _, summary = sess.run([train_step, merged], feed_dict={x:batch_x, y:batch_y})  \n",
    "        writer.add_summary(summary, epoch)\n",
    "        acc = sess.run(accuracy, feed_dict={x:mnist.test.images, y:mnist.test.labels})  # 用测试集来预测\n",
    "        print(\"第{0}圈  准确率是： {1}, 耗时: {2} 秒 \".format(epoch, acc, time.time()-time1))"
   ]
  },
  {
   "cell_type": "code",
   "execution_count": null,
   "metadata": {
    "collapsed": true
   },
   "outputs": [],
   "source": []
  },
  {
   "cell_type": "code",
   "execution_count": null,
   "metadata": {
    "collapsed": true
   },
   "outputs": [],
   "source": []
  }
 ],
 "metadata": {
  "kernelspec": {
   "display_name": "Tensor2",
   "language": "python",
   "name": "python3"
  },
  "language_info": {
   "codemirror_mode": {
    "name": "ipython",
    "version": 3
   },
   "file_extension": ".py",
   "mimetype": "text/x-python",
   "name": "python",
   "nbconvert_exporter": "python",
   "pygments_lexer": "ipython3",
   "version": "3.6.2"
  }
 },
 "nbformat": 4,
 "nbformat_minor": 2
}
