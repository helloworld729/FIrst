{
 "cells": [
  {
   "cell_type": "code",
   "execution_count": 2,
   "metadata": {
    "collapsed": false
   },
   "outputs": [],
   "source": [
    "import tensorflow as tf\n",
    "import numpy as np"
   ]
  },
  {
   "cell_type": "code",
   "execution_count": 4,
   "metadata": {
    "collapsed": false
   },
   "outputs": [],
   "source": [
    "# 获取100个随机点\n",
    "x_data = np.random.rand(100)\n",
    "y_data = x_data*0.1 + 0.2\n",
    "\n",
    "# 构造线型模型\n",
    "b = tf.Variable(0.)\n",
    "k = tf.Variable(0.)\n",
    "y = k*x_data + b\n",
    "\n",
    "# loss fun\n",
    "loss = tf.reduce_mean(tf.square(y_data-y))\n",
    "\n",
    "optimizer = tf.train.GradientDescentOptimizer(0.2)\n",
    "train = optimizer.minimize(loss)\n",
    "\n",
    "init = tf.global_variables_initializer()"
   ]
  },
  {
   "cell_type": "code",
   "execution_count": 6,
   "metadata": {
    "collapsed": false
   },
   "outputs": [
    {
     "name": "stdout",
     "output_type": "stream",
     "text": [
      "20 [0.10806168, 0.19529656]\n",
      "40 [0.105221145, 0.19695386]\n",
      "60 [0.103381455, 0.19802718]\n",
      "80 [0.10218999, 0.1987223]\n",
      "100 [0.10141834, 0.19917251]\n",
      "120 [0.10091858, 0.19946408]\n",
      "140 [0.100594915, 0.19965291]\n",
      "160 [0.100385286, 0.19977522]\n",
      "180 [0.10024952, 0.19985442]\n",
      "200 [0.1001616, 0.19990572]\n"
     ]
    }
   ],
   "source": [
    "with tf.Session() as sess:\n",
    "    sess.run(init)\n",
    "    for step in range(1,201):\n",
    "        sess.run(train)\n",
    "        if step%20==0:\n",
    "            print(step,sess.run([k, b]))"
   ]
  },
  {
   "cell_type": "code",
   "execution_count": null,
   "metadata": {
    "collapsed": true
   },
   "outputs": [],
   "source": []
  }
 ],
 "metadata": {
  "kernelspec": {
   "display_name": "Python 3",
   "language": "python",
   "name": "python3"
  },
  "language_info": {
   "codemirror_mode": {
    "name": "ipython",
    "version": 3
   },
   "file_extension": ".py",
   "mimetype": "text/x-python",
   "name": "python",
   "nbconvert_exporter": "python",
   "pygments_lexer": "ipython3",
   "version": "3.6.0"
  }
 },
 "nbformat": 4,
 "nbformat_minor": 2
}
