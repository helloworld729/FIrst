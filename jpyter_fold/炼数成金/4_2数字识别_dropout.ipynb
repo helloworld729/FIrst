{
 "cells": [
  {
   "cell_type": "code",
   "execution_count": 2,
   "metadata": {
    "collapsed": false
   },
   "outputs": [],
   "source": [
    "import tensorflow as tf\n",
    "import numpy as np\n",
    "from tensorflow.examples.tutorials.mnist import input_data"
   ]
  },
  {
   "cell_type": "markdown",
   "metadata": {},
   "source": [
    "### 1 加载数据集"
   ]
  },
  {
   "cell_type": "code",
   "execution_count": 4,
   "metadata": {
    "collapsed": false
   },
   "outputs": [
    {
     "name": "stdout",
     "output_type": "stream",
     "text": [
      "Extracting MNIST_data\\train-images-idx3-ubyte.gz\n",
      "Extracting MNIST_data\\train-labels-idx1-ubyte.gz\n",
      "Extracting MNIST_data\\t10k-images-idx3-ubyte.gz\n",
      "Extracting MNIST_data\\t10k-labels-idx1-ubyte.gz\n"
     ]
    }
   ],
   "source": [
    "mnist = input_data.read_data_sets(\"MNIST_data\", one_hot=True)"
   ]
  },
  {
   "cell_type": "markdown",
   "metadata": {},
   "source": [
    "### 2 设定批次"
   ]
  },
  {
   "cell_type": "code",
   "execution_count": 5,
   "metadata": {
    "collapsed": false
   },
   "outputs": [],
   "source": [
    "batch_size = 50\n",
    "n_batch = mnist.train.num_examples // batch_size  # 总共有多少个批次\n",
    "\n",
    "# 定义训练集占位符\n",
    "x = tf.placeholder(tf.float32, [None, 784])  # 每一行表示一个样本，内容是784为的像素值\n",
    "y = tf.placeholder(tf.float32, [None, 10])   # 每一行表示一个label，采用杜热编码\n",
    "keep_prob = tf.placeholder(tf.float32)"
   ]
  },
  {
   "cell_type": "markdown",
   "metadata": {},
   "source": [
    "### 3 创建安神经网络（不含隐藏层）"
   ]
  },
  {
   "cell_type": "code",
   "execution_count": 15,
   "metadata": {
    "collapsed": false
   },
   "outputs": [],
   "source": [
    "w1 = tf.Variable(tf.truncated_normal([784, 2000], stddev=0.1))\n",
    "b1 = tf.Variable(tf.zeros([2000]) + 0.1)\n",
    "wx_plus_b_l1 = tf.matmul(x, w1) + b1\n",
    "l1 = tf.nn.tanh(wx_plus_b_l1)\n",
    "l1_dropout = tf.nn.dropout(l1, keep_prob)\n",
    "\n",
    "w2 = tf.Variable(tf.truncated_normal([2000, 2000], stddev=0.1))\n",
    "b2 = tf.Variable(tf.zeros([2000]) + 0.1)\n",
    "wx_plus_b_l2 = tf.matmul(l1_dropout, w2) + b2\n",
    "l2 = tf.nn.tanh(wx_plus_b_l2)\n",
    "l2_dropout = tf.nn.dropout(l2, keep_prob)\n",
    "\n",
    "w3 = tf.Variable(tf.truncated_normal([2000, 1000], stddev=0.1))\n",
    "b3 = tf.Variable(tf.zeros([1000]) + 0.1)\n",
    "wx_plus_b_l3 = tf.matmul(l2_dropout, w3) + b3\n",
    "l3 = tf.nn.tanh(wx_plus_b_l3)\n",
    "l3_dropout = tf.nn.dropout(l3, keep_prob)\n",
    "\n",
    "w4 = tf.Variable(tf.truncated_normal([1000, 10], stddev=0.1))\n",
    "b4 = tf.Variable(tf.zeros([10]) + 0.1)\n",
    "wx_plus_b_l4 = tf.matmul(l3_dropout, w4) + b4\n",
    "l4 = tf.nn.tanh(wx_plus_b_l4)\n",
    "prediction = tf.nn.dropout(l4, keep_prob)"
   ]
  },
  {
   "cell_type": "markdown",
   "metadata": {},
   "source": [
    "### 4 优化器"
   ]
  },
  {
   "cell_type": "code",
   "execution_count": 17,
   "metadata": {
    "collapsed": false
   },
   "outputs": [],
   "source": [
    "# loss = tf.reduce_mean(tf.square(y-prediction))\n",
    "loss = tf.reduce_mean(tf.nn.softmax_cross_entropy_with_logits(labels=y, logits=prediction))\n",
    "train_step = tf.train.GradientDescentOptimizer(0.3).minimize(loss)"
   ]
  },
  {
   "cell_type": "markdown",
   "metadata": {},
   "source": [
    "### 5 获取预测结果并计算准确率"
   ]
  },
  {
   "cell_type": "code",
   "execution_count": 20,
   "metadata": {
    "collapsed": false
   },
   "outputs": [],
   "source": [
    "correct_prediction = tf.equal(tf.arg_max(prediction, 1), tf.arg_max(y, 1))\n",
    "accuracy = tf.reduce_mean(tf.cast(correct_prediction, tf.float32))"
   ]
  },
  {
   "cell_type": "markdown",
   "metadata": {},
   "source": [
    "### 6 启动会话"
   ]
  },
  {
   "cell_type": "code",
   "execution_count": null,
   "metadata": {
    "collapsed": false
   },
   "outputs": [
    {
     "name": "stdout",
     "output_type": "stream",
     "text": [
      "第0圈  训练集准确率是： 0.6638545393943787  测试集准确率是：0.6696000099182129\n"
     ]
    }
   ],
   "source": [
    "with tf.Session() as sess:\n",
    "    sess.run(tf.global_variables_initializer())\n",
    "    for epoch in range(21):\n",
    "        for batch in range(n_batch):\n",
    "            batch_x, batch_y = mnist.train.next_batch(batch_size)\n",
    "            sess.run(train_step, feed_dict={x:batch_x, y:batch_y, keep_prob:0.5})\n",
    "        acc_test = sess.run(accuracy, feed_dict={x:mnist.test.images, y:mnist.test.labels, keep_prob:1.0})  # 用测试集来预测\n",
    "        acc_train = sess.run(accuracy, feed_dict={x:mnist.train.images, y:mnist.train.labels, keep_prob:1.0})  # 用训练集来预测\n",
    "        print(\"第{0}圈  训练集准确率是： {1}  测试集准确率是：{2}\".format(epoch, acc_train, acc_test))"
   ]
  },
  {
   "cell_type": "code",
   "execution_count": null,
   "metadata": {
    "collapsed": true
   },
   "outputs": [],
   "source": [
    "第0圈  训练集准确率是： 0.9495454430580139  测试集准确率是：0.9478999972343445\n",
    "第1圈  训练集准确率是： 0.9599090814590454  测试集准确率是：0.954800009727478\n",
    "第2圈  训练集准确率是： 0.9682000279426575  测试集准确率是：0.9580000042915344\n",
    "第3圈  训练集准确率是： 0.9765818119049072  测试集准确率是：0.9699000120162964\n",
    "第4圈  训练集准确率是： 0.982200026512146  测试集准确率是：0.9725000262260437\n",
    "第5圈  训练集准确率是： 0.9830726981163025  测试集准确率是：0.9708999991416931\n",
    "第6圈  训练集准确率是： 0.9856545329093933  测试集准确率是：0.9726999998092651\n",
    "第7圈  训练集准确率是： 0.9881636500358582  测试集准确率是：0.9749000072479248\n",
    "第8圈  训练集准确率是： 0.9891454577445984  测试集准确率是：0.9750999808311462\n",
    "第9圈  训练集准确率是： 0.9908909201622009  测试集准确率是：0.9753999710083008\n",
    "第10圈  训练集准确率是： 0.9920908808708191  测试集准确率是：0.9771999716758728\n",
    "第11圈  训练集准确率是： 0.9929454326629639  测试集准确率是：0.9771999716758728\n",
    "第12圈  训练集准确率是： 0.9931636452674866  测试集准确率是：0.9775999784469604\n",
    "第13圈  训练集准确率是： 0.9940181970596313  测试集准确率是：0.9790999889373779\n",
    "第14圈  训练集准确率是： 0.9951454401016235  测试集准确率是：0.9811000227928162\n",
    "第15圈  训练集准确率是： 0.9956727027893066  测试集准确率是：0.9789999723434448\n",
    "第16圈  训练集准确率是： 0.9961090683937073  测试集准确率是：0.9815999865531921\n",
    "第17圈  训练集准确率是： 0.9959272742271423  测试集准确率是：0.9794999957084656\n",
    "第18圈  训练集准确率是： 0.9963091015815735  测试集准确率是：0.9807000160217285\n",
    "第19圈  训练集准确率是： 0.9965454339981079  测试集准确率是：0.9818000197410583\n",
    "第20圈  训练集准确率是： 0.9966727495193481  测试集准确率是：0.9819999933242798\n"
   ]
  },
  {
   "cell_type": "code",
   "execution_count": null,
   "metadata": {
    "collapsed": true
   },
   "outputs": [],
   "source": []
  }
 ],
 "metadata": {
  "kernelspec": {
   "display_name": "Python 3",
   "language": "python",
   "name": "python3"
  },
  "language_info": {
   "codemirror_mode": {
    "name": "ipython",
    "version": 3
   },
   "file_extension": ".py",
   "mimetype": "text/x-python",
   "name": "python",
   "nbconvert_exporter": "python",
   "pygments_lexer": "ipython3",
   "version": "3.6.0"
  }
 },
 "nbformat": 4,
 "nbformat_minor": 2
}
